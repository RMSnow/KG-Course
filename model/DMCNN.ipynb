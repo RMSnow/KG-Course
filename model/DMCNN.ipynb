{
 "cells": [
  {
   "cell_type": "code",
   "execution_count": 1,
   "metadata": {},
   "outputs": [],
   "source": [
    "import numpy as np\n",
    "\n",
    "train = np.load(\n",
    "    '../../../../多媒体技术 曹娟/课程设计/MM-Course/multimodal/data/train_we_(32193, 120).npy')\n",
    "test = np.load(\n",
    "    '../../../../多媒体技术 曹娟/课程设计/MM-Course/multimodal/data/test_we_(1613, 120).npy')\n",
    "emb_mx = np.load(\n",
    "    '../../../../多媒体技术 曹娟/课程设计/MM-Course/multimodal/data/we_embedding_matrix_(6000, 300).npy')\n",
    "\n",
    "train.shape, test.shape, emb_mx.shape\n",
    "\n",
    "y_test = np.load('../../../../多媒体技术 曹娟/课程设计/MM-Course/multimodal/data/test_label_(1613, 2).npy')\n",
    "y_train = np.load('../../../../多媒体技术 曹娟/课程设计/MM-Course/multimodal/data/train_label_(32193, 2).npy')"
   ]
  },
  {
   "cell_type": "code",
   "execution_count": 2,
   "metadata": {},
   "outputs": [
    {
     "name": "stderr",
     "output_type": "stream",
     "text": [
      "Using TensorFlow backend.\n"
     ]
    },
    {
     "name": "stdout",
     "output_type": "stream",
     "text": [
      "__________________________________________________________________________________________________\n",
      "Layer (type)                    Output Shape         Param #     Connected to                     \n",
      "==================================================================================================\n",
      "Word2Vec (InputLayer)           (None, 120)          0                                            \n",
      "__________________________________________________________________________________________________\n",
      "cwf_embedding (Embedding)       (None, 120, 300)     1800000     Word2Vec[0][0]                   \n",
      "__________________________________________________________________________________________________\n",
      "PositionFeatures (InputLayer)   (None, 120, 120, 2)  0                                            \n",
      "__________________________________________________________________________________________________\n",
      "max_sequence_repeat (Lambda)    (None, 120, 120, 300 0           cwf_embedding[0][0]              \n",
      "__________________________________________________________________________________________________\n",
      "pf_embedding (TimeDistributed)  (None, 120, 120, 5)  15          PositionFeatures[0][0]           \n",
      "__________________________________________________________________________________________________\n",
      "EventWordsMask (InputLayer)     (None, 120, 3, 120)  0                                            \n",
      "__________________________________________________________________________________________________\n",
      "SentenceLevel (Concatenate)     (None, 120, 120, 305 0           max_sequence_repeat[0][0]        \n",
      "                                                                 pf_embedding[0][0]               \n",
      "__________________________________________________________________________________________________\n",
      "mask0 (Lambda)                  (None, 120, 118, 1)  0           EventWordsMask[0][0]             \n",
      "__________________________________________________________________________________________________\n",
      "conv (TimeDistributed)          (None, 120, 118, 200 183200      SentenceLevel[0][0]              \n",
      "__________________________________________________________________________________________________\n",
      "mask1 (Lambda)                  (None, 120, 118, 1)  0           EventWordsMask[0][0]             \n",
      "__________________________________________________________________________________________________\n",
      "mask2 (Lambda)                  (None, 120, 118, 1)  0           EventWordsMask[0][0]             \n",
      "__________________________________________________________________________________________________\n",
      "conv_mask0 (Multiply)           (None, 120, 118, 200 0           mask0[0][0]                      \n",
      "                                                                 conv[0][0]                       \n",
      "__________________________________________________________________________________________________\n",
      "conv_mask1 (Multiply)           (None, 120, 118, 200 0           mask1[0][0]                      \n",
      "                                                                 conv[0][0]                       \n",
      "__________________________________________________________________________________________________\n",
      "conv_mask2 (Multiply)           (None, 120, 118, 200 0           mask2[0][0]                      \n",
      "                                                                 conv[0][0]                       \n",
      "__________________________________________________________________________________________________\n",
      "max_pooling0 (TimeDistributed)  (None, 120, 1, 200)  0           conv_mask0[0][0]                 \n",
      "__________________________________________________________________________________________________\n",
      "max_pooling1 (TimeDistributed)  (None, 120, 1, 200)  0           conv_mask1[0][0]                 \n",
      "__________________________________________________________________________________________________\n",
      "max_pooling2 (TimeDistributed)  (None, 120, 1, 200)  0           conv_mask2[0][0]                 \n",
      "__________________________________________________________________________________________________\n",
      "flatten0 (TimeDistributed)      (None, 120, 200)     0           max_pooling0[0][0]               \n",
      "__________________________________________________________________________________________________\n",
      "flatten1 (TimeDistributed)      (None, 120, 200)     0           max_pooling1[0][0]               \n",
      "__________________________________________________________________________________________________\n",
      "flatten2 (TimeDistributed)      (None, 120, 200)     0           max_pooling2[0][0]               \n",
      "__________________________________________________________________________________________________\n",
      "LexicalLevelFeatures (InputLaye (None, 120, 6)       0                                            \n",
      "__________________________________________________________________________________________________\n",
      "dropout0 (TimeDistributed)      (None, 120, 200)     0           flatten0[0][0]                   \n",
      "__________________________________________________________________________________________________\n",
      "dropout1 (TimeDistributed)      (None, 120, 200)     0           flatten1[0][0]                   \n",
      "__________________________________________________________________________________________________\n",
      "dropout2 (TimeDistributed)      (None, 120, 200)     0           flatten2[0][0]                   \n",
      "__________________________________________________________________________________________________\n",
      "LexicalEmbedding0 (TimeDistribu (None, 120, 300)     0           LexicalLevelFeatures[0][0]       \n",
      "__________________________________________________________________________________________________\n",
      "LexicalEmbedding1 (TimeDistribu (None, 120, 300)     0           LexicalLevelFeatures[0][0]       \n",
      "__________________________________________________________________________________________________\n",
      "LexicalEmbedding2 (TimeDistribu (None, 120, 300)     0           LexicalLevelFeatures[0][0]       \n",
      "__________________________________________________________________________________________________\n",
      "LexicalEmbedding3 (TimeDistribu (None, 120, 300)     0           LexicalLevelFeatures[0][0]       \n",
      "__________________________________________________________________________________________________\n",
      "LexicalEmbedding4 (TimeDistribu (None, 120, 300)     0           LexicalLevelFeatures[0][0]       \n",
      "__________________________________________________________________________________________________\n",
      "LexicalEmbedding5 (TimeDistribu (None, 120, 300)     0           LexicalLevelFeatures[0][0]       \n",
      "__________________________________________________________________________________________________\n",
      "DynamicMaxPooling (Concatenate) (None, 120, 600)     0           dropout0[0][0]                   \n",
      "                                                                 dropout1[0][0]                   \n",
      "                                                                 dropout2[0][0]                   \n",
      "__________________________________________________________________________________________________\n",
      "LexicalLevel (Concatenate)      (None, 120, 1800)    0           LexicalEmbedding0[0][0]          \n",
      "                                                                 LexicalEmbedding1[0][0]          \n",
      "                                                                 LexicalEmbedding2[0][0]          \n",
      "                                                                 LexicalEmbedding3[0][0]          \n",
      "                                                                 LexicalEmbedding4[0][0]          \n",
      "                                                                 LexicalEmbedding5[0][0]          \n",
      "__________________________________________________________________________________________________\n",
      "LexicalAndSentence (Concatenate (None, 120, 2400)    0           DynamicMaxPooling[0][0]          \n",
      "                                                                 LexicalLevel[0][0]               \n",
      "__________________________________________________________________________________________________\n",
      "fc (TimeDistributed)            (None, 120, 32)      76832       LexicalAndSentence[0][0]         \n",
      "__________________________________________________________________________________________________\n",
      "output (TimeDistributed)        (None, 120, 7)       231         fc[0][0]                         \n",
      "==================================================================================================\n",
      "Total params: 2,060,278\n",
      "Trainable params: 260,278\n",
      "Non-trainable params: 1,800,000\n",
      "__________________________________________________________________________________________________\n"
     ]
    }
   ],
   "source": [
    "from DMCNN import DMCNN\n",
    "\n",
    "model = DMCNN(max_sequence_length=120, embedding_matrix=emb_mx).model\n",
    "model.summary()"
   ]
  },
  {
   "cell_type": "code",
   "execution_count": 3,
   "metadata": {
    "collapsed": true
   },
   "outputs": [],
   "source": [
    "from keras.utils import plot_model"
   ]
  },
  {
   "cell_type": "code",
   "execution_count": 5,
   "metadata": {
    "collapsed": true
   },
   "outputs": [],
   "source": [
    "plot_model(model, './img/DMCNN.png', show_shapes=True)"
   ]
  },
  {
   "cell_type": "code",
   "execution_count": null,
   "metadata": {
    "collapsed": true
   },
   "outputs": [],
   "source": []
  },
  {
   "cell_type": "code",
   "execution_count": null,
   "metadata": {
    "collapsed": true
   },
   "outputs": [],
   "source": []
  },
  {
   "cell_type": "code",
   "execution_count": 4,
   "metadata": {},
   "outputs": [
    {
     "data": {
      "text/plain": [
       "(1613, 2)"
      ]
     },
     "execution_count": 4,
     "metadata": {},
     "output_type": "execute_result"
    }
   ],
   "source": [
    "y_train.shape"
   ]
  },
  {
   "cell_type": "code",
   "execution_count": 5,
   "metadata": {
    "collapsed": true
   },
   "outputs": [],
   "source": [
    "from keras.utils import to_categorical"
   ]
  },
  {
   "cell_type": "code",
   "execution_count": 17,
   "metadata": {},
   "outputs": [
    {
     "data": {
      "text/plain": [
       "(32193, 120, 7)"
      ]
     },
     "execution_count": 17,
     "metadata": {},
     "output_type": "execute_result"
    }
   ],
   "source": [
    "y_train = np.zeros((len(y_train), 120))\n",
    "y_train.shape\n",
    "\n",
    "y_train[0][0] = 6\n",
    "\n",
    "y_train = to_categorical(y_train)\n",
    "y_train.shape"
   ]
  },
  {
   "cell_type": "code",
   "execution_count": 18,
   "metadata": {},
   "outputs": [
    {
     "data": {
      "text/plain": [
       "(1613, 120, 7)"
      ]
     },
     "execution_count": 18,
     "metadata": {},
     "output_type": "execute_result"
    }
   ],
   "source": [
    "y_test = np.zeros((len(y_test), 120))\n",
    "y_test.shape\n",
    "\n",
    "y_test[0][0] = 6\n",
    "\n",
    "y_test = to_categorical(y_test)\n",
    "y_test.shape"
   ]
  },
  {
   "cell_type": "code",
   "execution_count": 21,
   "metadata": {},
   "outputs": [
    {
     "name": "stdout",
     "output_type": "stream",
     "text": [
      "Train on 100 samples, validate on 10 samples\n",
      "Epoch 1/1\n",
      "100/100 [==============================] - 38s 385ms/step - loss: 0.6634 - acc: 0.9999 - val_loss: 0.6623 - val_acc: 0.9992\n"
     ]
    },
    {
     "data": {
      "text/plain": [
       "<keras.callbacks.History at 0x7f7ef9909c18>"
      ]
     },
     "execution_count": 21,
     "metadata": {},
     "output_type": "execute_result"
    }
   ],
   "source": [
    "model.fit(x=train[:100], y=y_train[:100], validation_data=(test[:10], y_test[:10]))"
   ]
  },
  {
   "cell_type": "code",
   "execution_count": 23,
   "metadata": {},
   "outputs": [],
   "source": [
    "a = [1,2]"
   ]
  },
  {
   "cell_type": "code",
   "execution_count": 24,
   "metadata": {
    "collapsed": true
   },
   "outputs": [],
   "source": [
    "c, d = a"
   ]
  },
  {
   "cell_type": "code",
   "execution_count": 25,
   "metadata": {},
   "outputs": [
    {
     "data": {
      "text/plain": [
       "1"
      ]
     },
     "execution_count": 25,
     "metadata": {},
     "output_type": "execute_result"
    }
   ],
   "source": [
    "c"
   ]
  },
  {
   "cell_type": "code",
   "execution_count": 26,
   "metadata": {},
   "outputs": [
    {
     "data": {
      "text/plain": [
       "2"
      ]
     },
     "execution_count": 26,
     "metadata": {},
     "output_type": "execute_result"
    }
   ],
   "source": [
    "d"
   ]
  },
  {
   "cell_type": "code",
   "execution_count": null,
   "metadata": {
    "collapsed": true
   },
   "outputs": [],
   "source": []
  }
 ],
 "metadata": {
  "kernelspec": {
   "display_name": "Python 3",
   "language": "python",
   "name": "python3"
  },
  "language_info": {
   "codemirror_mode": {
    "name": "ipython",
    "version": 3
   },
   "file_extension": ".py",
   "mimetype": "text/x-python",
   "name": "python",
   "nbconvert_exporter": "python",
   "pygments_lexer": "ipython3",
   "version": "3.5.3"
  },
  "toc": {
   "base_numbering": 1,
   "nav_menu": {},
   "number_sections": true,
   "sideBar": true,
   "skip_h1_title": false,
   "title_cell": "Table of Contents",
   "title_sidebar": "Contents",
   "toc_cell": false,
   "toc_position": {},
   "toc_section_display": true,
   "toc_window_display": false
  }
 },
 "nbformat": 4,
 "nbformat_minor": 2
}
