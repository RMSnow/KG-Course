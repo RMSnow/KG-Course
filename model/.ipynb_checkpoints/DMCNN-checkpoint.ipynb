{
 "cells": [
  {
   "cell_type": "markdown",
   "metadata": {},
   "source": [
    "# 数据加载"
   ]
  },
  {
   "cell_type": "code",
   "execution_count": 1,
   "metadata": {},
   "outputs": [],
   "source": [
    "import os\n",
    "os.environ[\"CUDA_VISIBLE_DEVICES\"] = \"1\""
   ]
  },
  {
   "cell_type": "code",
   "execution_count": 2,
   "metadata": {},
   "outputs": [
    {
     "data": {
      "text/plain": [
       "((1665, 85),\n",
       " (6000, 300),\n",
       " (1665, 85, 85, 2),\n",
       " (1665, 85, 6),\n",
       " (1665, 85, 3, 85),\n",
       " (1665, 85, 8))"
      ]
     },
     "execution_count": 2,
     "metadata": {},
     "output_type": "execute_result"
    }
   ],
   "source": [
    "import numpy as np\n",
    "\n",
    "we = np.load('../data/we_(1665, 85).npy')\n",
    "we_emb_matrix = np.load('../data/we_embedding_matrix_(6000, 300).npy')\n",
    "\n",
    "pf = np.load('../data/position_(1665, 85, 85, 2).npy')\n",
    "lexical = np.load('../data/lexical_(1665, 85, 6).npy')\n",
    "mask = np.load('../data/mask_(1665, 85, 3, 85).npy')\n",
    "\n",
    "label = np.load('../data/label_(1665, 85, 8).npy')\n",
    "\n",
    "we.shape, we_emb_matrix.shape, pf.shape, lexical.shape, mask.shape, label.shape"
   ]
  },
  {
   "cell_type": "markdown",
   "metadata": {},
   "source": [
    "# Plot Model"
   ]
  },
  {
   "cell_type": "code",
   "execution_count": 2,
   "metadata": {},
   "outputs": [
    {
     "name": "stderr",
     "output_type": "stream",
     "text": [
      "Using TensorFlow backend.\n"
     ]
    },
    {
     "name": "stdout",
     "output_type": "stream",
     "text": [
      "__________________________________________________________________________________________________\n",
      "Layer (type)                    Output Shape         Param #     Connected to                     \n",
      "==================================================================================================\n",
      "Word2Vec (InputLayer)           (None, 85)           0                                            \n",
      "__________________________________________________________________________________________________\n",
      "cwf_embedding (Embedding)       (None, 85, 300)      1800000     Word2Vec[0][0]                   \n",
      "__________________________________________________________________________________________________\n",
      "PositionFeatures (InputLayer)   (None, 85, 85, 2)    0                                            \n",
      "__________________________________________________________________________________________________\n",
      "max_sequence_repeat (Lambda)    (None, 85, 85, 300)  0           cwf_embedding[0][0]              \n",
      "__________________________________________________________________________________________________\n",
      "pf_embedding (TimeDistributed)  (None, 85, 85, 5)    15          PositionFeatures[0][0]           \n",
      "__________________________________________________________________________________________________\n",
      "EventWordsMask (InputLayer)     (None, 85, 3, 85)    0                                            \n",
      "__________________________________________________________________________________________________\n",
      "SentenceLevel (Concatenate)     (None, 85, 85, 305)  0           max_sequence_repeat[0][0]        \n",
      "                                                                 pf_embedding[0][0]               \n",
      "__________________________________________________________________________________________________\n",
      "mask0 (Lambda)                  (None, 85, 85, 305)  0           EventWordsMask[0][0]             \n",
      "                                                                 SentenceLevel[0][0]              \n",
      "__________________________________________________________________________________________________\n",
      "mask1 (Lambda)                  (None, 85, 85, 305)  0           EventWordsMask[0][0]             \n",
      "                                                                 SentenceLevel[0][0]              \n",
      "__________________________________________________________________________________________________\n",
      "mask2 (Lambda)                  (None, 85, 85, 305)  0           EventWordsMask[0][0]             \n",
      "                                                                 SentenceLevel[0][0]              \n",
      "__________________________________________________________________________________________________\n",
      "sentence_mask_reshape0 (Lambda) (None, 85, 1, 85, 30 0           mask0[0][0]                      \n",
      "__________________________________________________________________________________________________\n",
      "sentence_mask_reshape1 (Lambda) (None, 85, 1, 85, 30 0           mask1[0][0]                      \n",
      "__________________________________________________________________________________________________\n",
      "sentence_mask_reshape2 (Lambda) (None, 85, 1, 85, 30 0           mask2[0][0]                      \n",
      "__________________________________________________________________________________________________\n",
      "SentenceLevelMask (Concatenate) (None, 85, 3, 85, 30 0           sentence_mask_reshape0[0][0]     \n",
      "                                                                 sentence_mask_reshape1[0][0]     \n",
      "                                                                 sentence_mask_reshape2[0][0]     \n",
      "__________________________________________________________________________________________________\n",
      "conv (TimeDistributed)          (None, 85, 3, 83, 20 183200      SentenceLevelMask[0][0]          \n",
      "__________________________________________________________________________________________________\n",
      "max_pooling (TimeDistributed)   (None, 85, 3, 1, 200 0           conv[0][0]                       \n",
      "__________________________________________________________________________________________________\n",
      "LexicalLevelFeatures (InputLaye (None, 85, 6)        0                                            \n",
      "__________________________________________________________________________________________________\n",
      "flatten (TimeDistributed)       (None, 85, 600)      0           max_pooling[0][0]                \n",
      "__________________________________________________________________________________________________\n",
      "LexicalEmbedding0 (TimeDistribu (None, 85, 300)      0           LexicalLevelFeatures[0][0]       \n",
      "__________________________________________________________________________________________________\n",
      "LexicalEmbedding1 (TimeDistribu (None, 85, 300)      0           LexicalLevelFeatures[0][0]       \n",
      "__________________________________________________________________________________________________\n",
      "LexicalEmbedding2 (TimeDistribu (None, 85, 300)      0           LexicalLevelFeatures[0][0]       \n",
      "__________________________________________________________________________________________________\n",
      "LexicalEmbedding3 (TimeDistribu (None, 85, 300)      0           LexicalLevelFeatures[0][0]       \n",
      "__________________________________________________________________________________________________\n",
      "LexicalEmbedding4 (TimeDistribu (None, 85, 300)      0           LexicalLevelFeatures[0][0]       \n",
      "__________________________________________________________________________________________________\n",
      "LexicalEmbedding5 (TimeDistribu (None, 85, 300)      0           LexicalLevelFeatures[0][0]       \n",
      "__________________________________________________________________________________________________\n",
      "dropout (TimeDistributed)       (None, 85, 600)      0           flatten[0][0]                    \n",
      "__________________________________________________________________________________________________\n",
      "LexicalLevel (Concatenate)      (None, 85, 1800)     0           LexicalEmbedding0[0][0]          \n",
      "                                                                 LexicalEmbedding1[0][0]          \n",
      "                                                                 LexicalEmbedding2[0][0]          \n",
      "                                                                 LexicalEmbedding3[0][0]          \n",
      "                                                                 LexicalEmbedding4[0][0]          \n",
      "                                                                 LexicalEmbedding5[0][0]          \n",
      "__________________________________________________________________________________________________\n",
      "LexicalAndSentence (Concatenate (None, 85, 2400)     0           dropout[0][0]                    \n",
      "                                                                 LexicalLevel[0][0]               \n",
      "__________________________________________________________________________________________________\n",
      "fc (TimeDistributed)            (None, 85, 32)       76832       LexicalAndSentence[0][0]         \n",
      "__________________________________________________________________________________________________\n",
      "output (TimeDistributed)        (None, 85, 8)        264         fc[0][0]                         \n",
      "==================================================================================================\n",
      "Total params: 2,060,311\n",
      "Trainable params: 260,311\n",
      "Non-trainable params: 1,800,000\n",
      "__________________________________________________________________________________________________\n"
     ]
    }
   ],
   "source": [
    "from DMCNN import DMCNN\n",
    "\n",
    "model = DMCNN(max_sequence_length=85, embedding_matrix=we_emb_matrix).model\n",
    "model.summary()"
   ]
  },
  {
   "cell_type": "code",
   "execution_count": 3,
   "metadata": {
    "collapsed": true
   },
   "outputs": [],
   "source": [
    "from keras.utils import plot_model"
   ]
  },
  {
   "cell_type": "code",
   "execution_count": 4,
   "metadata": {
    "collapsed": true
   },
   "outputs": [],
   "source": [
    "plot_model(model, './img/DMCNN.png', show_shapes=True)"
   ]
  },
  {
   "cell_type": "markdown",
   "metadata": {
    "collapsed": true
   },
   "source": [
    "# 模型训练"
   ]
  },
  {
   "cell_type": "code",
   "execution_count": 4,
   "metadata": {},
   "outputs": [],
   "source": [
    "from train import train\n",
    "from DMCNN import DMCNN"
   ]
  },
  {
   "cell_type": "code",
   "execution_count": 6,
   "metadata": {},
   "outputs": [
    {
     "name": "stdout",
     "output_type": "stream",
     "text": [
      "(1332, 85) (333, 85)\n",
      "(1332, 85, 85, 2) (333, 85, 85, 2)\n",
      "(1332, 85, 6) (333, 85, 6)\n",
      "(1332, 85, 3, 85) (333, 85, 3, 85)\n",
      "(1332, 85, 8) (333, 85, 8)\n",
      "__________________________________________________________________________________________________\n",
      "Layer (type)                    Output Shape         Param #     Connected to                     \n",
      "==================================================================================================\n",
      "Word2Vec (InputLayer)           (None, 85)           0                                            \n",
      "__________________________________________________________________________________________________\n",
      "cwf_embedding (Embedding)       (None, 85, 300)      1800000     Word2Vec[0][0]                   \n",
      "__________________________________________________________________________________________________\n",
      "PositionFeatures (InputLayer)   (None, 85, 85, 2)    0                                            \n",
      "__________________________________________________________________________________________________\n",
      "max_sequence_repeat (Lambda)    (None, 85, 85, 300)  0           cwf_embedding[0][0]              \n",
      "__________________________________________________________________________________________________\n",
      "pf_embedding (TimeDistributed)  (None, 85, 85, 5)    15          PositionFeatures[0][0]           \n",
      "__________________________________________________________________________________________________\n",
      "EventWordsMask (InputLayer)     (None, 85, 3, 85)    0                                            \n",
      "__________________________________________________________________________________________________\n",
      "SentenceLevel (Concatenate)     (None, 85, 85, 305)  0           max_sequence_repeat[0][0]        \n",
      "                                                                 pf_embedding[0][0]               \n",
      "__________________________________________________________________________________________________\n",
      "mask0 (Lambda)                  (None, 85, 85, 305)  0           EventWordsMask[0][0]             \n",
      "                                                                 SentenceLevel[0][0]              \n",
      "__________________________________________________________________________________________________\n",
      "mask1 (Lambda)                  (None, 85, 85, 305)  0           EventWordsMask[0][0]             \n",
      "                                                                 SentenceLevel[0][0]              \n",
      "__________________________________________________________________________________________________\n",
      "mask2 (Lambda)                  (None, 85, 85, 305)  0           EventWordsMask[0][0]             \n",
      "                                                                 SentenceLevel[0][0]              \n",
      "__________________________________________________________________________________________________\n",
      "sentence_mask_reshape0 (Lambda) (None, 85, 1, 85, 30 0           mask0[0][0]                      \n",
      "__________________________________________________________________________________________________\n",
      "sentence_mask_reshape1 (Lambda) (None, 85, 1, 85, 30 0           mask1[0][0]                      \n",
      "__________________________________________________________________________________________________\n",
      "sentence_mask_reshape2 (Lambda) (None, 85, 1, 85, 30 0           mask2[0][0]                      \n",
      "__________________________________________________________________________________________________\n",
      "SentenceLevelMask (Concatenate) (None, 85, 3, 85, 30 0           sentence_mask_reshape0[0][0]     \n",
      "                                                                 sentence_mask_reshape1[0][0]     \n",
      "                                                                 sentence_mask_reshape2[0][0]     \n",
      "__________________________________________________________________________________________________\n",
      "conv (TimeDistributed)          (None, 85, 3, 83, 20 183200      SentenceLevelMask[0][0]          \n",
      "__________________________________________________________________________________________________\n",
      "max_pooling (TimeDistributed)   (None, 85, 3, 1, 200 0           conv[0][0]                       \n",
      "__________________________________________________________________________________________________\n",
      "LexicalLevelFeatures (InputLaye (None, 85, 6)        0                                            \n",
      "__________________________________________________________________________________________________\n",
      "flatten (TimeDistributed)       (None, 85, 600)      0           max_pooling[0][0]                \n",
      "__________________________________________________________________________________________________\n",
      "LexicalEmbedding0 (TimeDistribu (None, 85, 300)      0           LexicalLevelFeatures[0][0]       \n",
      "__________________________________________________________________________________________________\n",
      "LexicalEmbedding1 (TimeDistribu (None, 85, 300)      0           LexicalLevelFeatures[0][0]       \n",
      "__________________________________________________________________________________________________\n",
      "LexicalEmbedding2 (TimeDistribu (None, 85, 300)      0           LexicalLevelFeatures[0][0]       \n",
      "__________________________________________________________________________________________________\n",
      "LexicalEmbedding3 (TimeDistribu (None, 85, 300)      0           LexicalLevelFeatures[0][0]       \n",
      "__________________________________________________________________________________________________\n",
      "LexicalEmbedding4 (TimeDistribu (None, 85, 300)      0           LexicalLevelFeatures[0][0]       \n",
      "__________________________________________________________________________________________________\n",
      "LexicalEmbedding5 (TimeDistribu (None, 85, 300)      0           LexicalLevelFeatures[0][0]       \n",
      "__________________________________________________________________________________________________\n",
      "dropout (TimeDistributed)       (None, 85, 600)      0           flatten[0][0]                    \n",
      "__________________________________________________________________________________________________\n",
      "LexicalLevel (Concatenate)      (None, 85, 1800)     0           LexicalEmbedding0[0][0]          \n",
      "                                                                 LexicalEmbedding1[0][0]          \n",
      "                                                                 LexicalEmbedding2[0][0]          \n",
      "                                                                 LexicalEmbedding3[0][0]          \n",
      "                                                                 LexicalEmbedding4[0][0]          \n",
      "                                                                 LexicalEmbedding5[0][0]          \n",
      "__________________________________________________________________________________________________\n",
      "LexicalAndSentence (Concatenate (None, 85, 2400)     0           dropout[0][0]                    \n",
      "                                                                 LexicalLevel[0][0]               \n",
      "__________________________________________________________________________________________________\n",
      "fc (TimeDistributed)            (None, 85, 32)       76832       LexicalAndSentence[0][0]         \n",
      "__________________________________________________________________________________________________\n",
      "output (TimeDistributed)        (None, 85, 8)        264         fc[0][0]                         \n",
      "==================================================================================================\n",
      "Total params: 2,060,311\n",
      "Trainable params: 260,311\n",
      "Non-trainable params: 1,800,000\n",
      "__________________________________________________________________________________________________\n",
      "None\n",
      "\n",
      "Train on 1332 samples, validate on 333 samples\n",
      "Epoch 1/20\n",
      "1332/1332 [==============================] - 16s 12ms/step - loss: 1.1400 - acc: 0.8763 - val_loss: 0.6507 - val_acc: 0.9763\n",
      "Epoch 2/20\n",
      "1332/1332 [==============================] - 8s 6ms/step - loss: 0.5520 - acc: 0.9775 - val_loss: 0.4577 - val_acc: 0.9798\n",
      "Epoch 3/20\n",
      "1332/1332 [==============================] - 8s 6ms/step - loss: 0.4145 - acc: 0.9786 - val_loss: 0.3671 - val_acc: 0.9790\n",
      "Epoch 4/20\n",
      "1332/1332 [==============================] - 8s 6ms/step - loss: 0.3457 - acc: 0.9781 - val_loss: 0.3198 - val_acc: 0.9807\n",
      "Epoch 5/20\n"
     ]
    },
    {
     "name": "stdout",
     "output_type": "stream",
     "text": [
      "1332/1332 [==============================] - 8s 6ms/step - loss: 0.3073 - acc: 0.9794 - val_loss: 0.2918 - val_acc: 0.9819\n",
      "Epoch 6/20\n",
      "1332/1332 [==============================] - 8s 6ms/step - loss: 0.2832 - acc: 0.9801 - val_loss: 0.2728 - val_acc: 0.9833\n",
      "Epoch 7/20\n",
      "1332/1332 [==============================] - 8s 6ms/step - loss: 0.2657 - acc: 0.9815 - val_loss: 0.2574 - val_acc: 0.9842\n",
      "Epoch 8/20\n",
      "1332/1332 [==============================] - 8s 6ms/step - loss: 0.2504 - acc: 0.9836 - val_loss: 0.2438 - val_acc: 0.9854\n",
      "Epoch 9/20\n",
      "1332/1332 [==============================] - 8s 6ms/step - loss: 0.2371 - acc: 0.9842 - val_loss: 0.2317 - val_acc: 0.9858\n",
      "Epoch 10/20\n",
      "1332/1332 [==============================] - 8s 6ms/step - loss: 0.2251 - acc: 0.9853 - val_loss: 0.2198 - val_acc: 0.9870\n",
      "Epoch 11/20\n",
      "1332/1332 [==============================] - 8s 6ms/step - loss: 0.2136 - acc: 0.9863 - val_loss: 0.2090 - val_acc: 0.9876\n",
      "Epoch 12/20\n",
      "1332/1332 [==============================] - 8s 6ms/step - loss: 0.2032 - acc: 0.9867 - val_loss: 0.1991 - val_acc: 0.9875\n",
      "Epoch 13/20\n",
      "1332/1332 [==============================] - 8s 6ms/step - loss: 0.1934 - acc: 0.9871 - val_loss: 0.1894 - val_acc: 0.9882\n",
      "Epoch 14/20\n",
      "1332/1332 [==============================] - 8s 6ms/step - loss: 0.1841 - acc: 0.9875 - val_loss: 0.1808 - val_acc: 0.9875\n",
      "Epoch 15/20\n",
      "1332/1332 [==============================] - 8s 6ms/step - loss: 0.1757 - acc: 0.9877 - val_loss: 0.1726 - val_acc: 0.9877\n",
      "Epoch 16/20\n",
      "1332/1332 [==============================] - 8s 6ms/step - loss: 0.1677 - acc: 0.9882 - val_loss: 0.1651 - val_acc: 0.9881\n",
      "Epoch 17/20\n",
      "1332/1332 [==============================] - 8s 6ms/step - loss: 0.1602 - acc: 0.9882 - val_loss: 0.1581 - val_acc: 0.9881\n",
      "Epoch 18/20\n",
      "1332/1332 [==============================] - 8s 6ms/step - loss: 0.1533 - acc: 0.9882 - val_loss: 0.1519 - val_acc: 0.9882\n",
      "Epoch 19/20\n",
      "1332/1332 [==============================] - 8s 6ms/step - loss: 0.1468 - acc: 0.9881 - val_loss: 0.1457 - val_acc: 0.9877\n",
      "Epoch 20/20\n",
      "1332/1332 [==============================] - 8s 6ms/step - loss: 0.1407 - acc: 0.9882 - val_loss: 0.1392 - val_acc: 0.9884\n"
     ]
    },
    {
     "data": {
      "image/png": "[encoded data removed]",
      "text/plain": [
       "<Figure size 432x288 with 1 Axes>"
      ]
     },
     "metadata": {
      "needs_background": "light"
     },
     "output_type": "display_data"
    }
   ],
   "source": [
    "model = DMCNN(max_sequence_length=85, embedding_matrix=we_emb_matrix).model\n",
    "\n",
    "train(model, model_name='DMCNN', data=[we, pf, lexical, mask], label=label, epochs=20, batch_size=128)"
   ]
  },
  {
   "cell_type": "markdown",
   "metadata": {
    "collapsed": true
   },
   "source": [
    "# 模型预测"
   ]
  },
  {
   "cell_type": "code",
   "execution_count": 8,
   "metadata": {},
   "outputs": [],
   "source": [
    "from dataset_split import split_dataset\n",
    "from train import predict_single_identification, predict_single_classification\n",
    "from train import predict_multiple_identification, predict_multiple_classification"
   ]
  },
  {
   "cell_type": "code",
   "execution_count": 5,
   "metadata": {},
   "outputs": [
    {
     "name": "stdout",
     "output_type": "stream",
     "text": [
      "(1332, 85, 8) (333, 85, 8)\n"
     ]
    },
    {
     "data": {
      "text/plain": [
       "(333, 85, 8)"
      ]
     },
     "execution_count": 5,
     "metadata": {},
     "output_type": "execute_result"
    }
   ],
   "source": [
    "_, y_test = split_dataset(label)\n",
    "y_test.shape"
   ]
  },
  {
   "cell_type": "code",
   "execution_count": 6,
   "metadata": {},
   "outputs": [
    {
     "data": {
      "text/plain": [
       "(333, 85, 8)"
      ]
     },
     "execution_count": 6,
     "metadata": {},
     "output_type": "execute_result"
    }
   ],
   "source": [
    "y_pred = np.load('./predict/y_pred_DMCNN.npy')\n",
    "y_pred.shape"
   ]
  },
  {
   "cell_type": "markdown",
   "metadata": {},
   "source": [
    "## 1/1"
   ]
  },
  {
   "cell_type": "markdown",
   "metadata": {},
   "source": [
    "### Identification"
   ]
  },
  {
   "cell_type": "code",
   "execution_count": 7,
   "metadata": {},
   "outputs": [
    {
     "name": "stdout",
     "output_type": "stream",
     "text": [
      "\n",
      "TEST_sz: 28305\n",
      "\n",
      "Accuracy: 0.9984101748807631\n",
      "\n",
      "              precision    recall  f1-score   support\n",
      "\n",
      "        none     0.9984    1.0000    0.9992     27634\n",
      "    not-none     1.0000    0.9329    0.9653       671\n",
      "\n",
      "    accuracy                         0.9984     28305\n",
      "   macro avg     0.9992    0.9665    0.9822     28305\n",
      "weighted avg     0.9984    0.9984    0.9984     28305\n",
      "\n",
      "\n"
     ]
    }
   ],
   "source": [
    "event_type = ['none', 'not-none']\n",
    "\n",
    "predict_single_identification(y_pred, y_test, event_type)"
   ]
  },
  {
   "cell_type": "markdown",
   "metadata": {},
   "source": [
    "### Identification + Classification"
   ]
  },
  {
   "cell_type": "code",
   "execution_count": 8,
   "metadata": {},
   "outputs": [
    {
     "name": "stdout",
     "output_type": "stream",
     "text": [
      "\n",
      "TEST_sz: 28305\n",
      "\n",
      "Accuracy: 0.9884119413531178\n",
      "\n",
      "              precision    recall  f1-score   support\n",
      "\n",
      "        none     0.9984    1.0000    0.9992     27634\n",
      "      action     0.3710    0.7244    0.4907       127\n",
      "   emergency     0.7422    0.7983    0.7692       119\n",
      "    movement     1.0000    0.0548    0.1039        73\n",
      "   operation     0.5887    0.5214    0.5530       140\n",
      "  perception     0.0000    0.0000    0.0000        31\n",
      " stateChange     0.6410    0.3247    0.4310        77\n",
      "   statement     0.6506    0.5192    0.5775       104\n",
      "\n",
      "   micro avg     0.9884    0.9884    0.9884     28305\n",
      "   macro avg     0.6240    0.4929    0.4906     28305\n",
      "weighted avg     0.9891    0.9884    0.9872     28305\n",
      " samples avg     0.9884    0.9884    0.9884     28305\n",
      "\n",
      "\n"
     ]
    },
    {
     "name": "stderr",
     "output_type": "stream",
     "text": [
      "/usr/local/anaconda3/lib/python3.7/site-packages/sklearn/metrics/classification.py:1437: UndefinedMetricWarning: Precision and F-score are ill-defined and being set to 0.0 in labels with no predicted samples.\n",
      "  'precision', 'predicted', average, warn_for)\n"
     ]
    }
   ],
   "source": [
    "event_type = ['none', 'action', 'emergency', 'movement',\n",
    "                  'operation', 'perception', 'stateChange', 'statement']\n",
    "\n",
    "predict_single_classification(y_pred, y_test, labels_names=event_type)"
   ]
  },
  {
   "cell_type": "markdown",
   "metadata": {},
   "source": [
    "## 1/N"
   ]
  },
  {
   "cell_type": "markdown",
   "metadata": {},
   "source": [
    "### Identification"
   ]
  },
  {
   "cell_type": "code",
   "execution_count": 7,
   "metadata": {},
   "outputs": [
    {
     "name": "stdout",
     "output_type": "stream",
     "text": [
      "TEST_sz: 333\n",
      "Accuracy: 0.8768768768768769\n"
     ]
    }
   ],
   "source": [
    "predict_multiple_identification(y_pred, y_test)"
   ]
  },
  {
   "cell_type": "markdown",
   "metadata": {},
   "source": [
    "### Identification + Classification"
   ]
  },
  {
   "cell_type": "code",
   "execution_count": 9,
   "metadata": {},
   "outputs": [
    {
     "name": "stdout",
     "output_type": "stream",
     "text": [
      "TEST_sz: 333\n",
      "Accuracy: 0.34534534534534533\n"
     ]
    }
   ],
   "source": [
    "predict_multiple_classification(y_pred, y_test)"
   ]
  },
  {
   "cell_type": "code",
   "execution_count": null,
   "metadata": {},
   "outputs": [],
   "source": []
  },
  {
   "cell_type": "code",
   "execution_count": null,
   "metadata": {},
   "outputs": [],
   "source": []
  }
 ],
 "metadata": {
  "kernelspec": {
   "display_name": "Python 3",
   "language": "python",
   "name": "python3"
  },
  "language_info": {
   "codemirror_mode": {
    "name": "ipython",
    "version": 3
   },
   "file_extension": ".py",
   "mimetype": "text/x-python",
   "name": "python",
   "nbconvert_exporter": "python",
   "pygments_lexer": "ipython3",
   "version": "3.7.4"
  },
  "toc": {
   "base_numbering": 1,
   "nav_menu": {},
   "number_sections": true,
   "sideBar": true,
   "skip_h1_title": false,
   "title_cell": "Table of Contents",
   "title_sidebar": "Contents",
   "toc_cell": false,
   "toc_position": {},
   "toc_section_display": true,
   "toc_window_display": true
  }
 },
 "nbformat": 4,
 "nbformat_minor": 2
}
