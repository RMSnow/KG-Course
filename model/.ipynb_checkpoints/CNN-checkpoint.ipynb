{
 "cells": [
  {
   "cell_type": "markdown",
   "metadata": {},
   "source": [
    "# 数据加载"
   ]
  },
  {
   "cell_type": "code",
   "execution_count": 1,
   "metadata": {
    "collapsed": true
   },
   "outputs": [],
   "source": [
    "import os\n",
    "os.environ[\"CUDA_VISIBLE_DEVICES\"] = \"1\""
   ]
  },
  {
   "cell_type": "code",
   "execution_count": 2,
   "metadata": {},
   "outputs": [
    {
     "data": {
      "text/plain": [
       "((1665, 85),\n",
       " (6000, 300),\n",
       " (1665, 85, 85, 2),\n",
       " (1665, 85, 6),\n",
       " (1665, 85, 3, 85),\n",
       " (1665, 85, 8))"
      ]
     },
     "execution_count": 2,
     "metadata": {},
     "output_type": "execute_result"
    }
   ],
   "source": [
    "import numpy as np\n",
    "\n",
    "we = np.load('../data/we_(1665, 85).npy')\n",
    "we_emb_matrix = np.load('../data/we_embedding_matrix_(6000, 300).npy')\n",
    "\n",
    "pf = np.load('../data/position_(1665, 85, 85, 2).npy')\n",
    "lexical = np.load('../data/lexical_(1665, 85, 6).npy')\n",
    "mask = np.load('../data/mask_(1665, 85, 3, 85).npy')\n",
    "\n",
    "label = np.load('../data/label_(1665, 85, 8).npy')\n",
    "\n",
    "we.shape, we_emb_matrix.shape, pf.shape, lexical.shape, mask.shape, label.shape"
   ]
  },
  {
   "cell_type": "markdown",
   "metadata": {},
   "source": [
    "# Plot Model"
   ]
  },
  {
   "cell_type": "code",
   "execution_count": 3,
   "metadata": {},
   "outputs": [
    {
     "name": "stderr",
     "output_type": "stream",
     "text": [
      "Using TensorFlow backend.\n"
     ]
    },
    {
     "name": "stdout",
     "output_type": "stream",
     "text": [
      "__________________________________________________________________________________________________\n",
      "Layer (type)                    Output Shape         Param #     Connected to                     \n",
      "==================================================================================================\n",
      "Word2Vec (InputLayer)           (None, 85)           0                                            \n",
      "__________________________________________________________________________________________________\n",
      "cwf_embedding (Embedding)       (None, 85, 300)      1800000     Word2Vec[0][0]                   \n",
      "__________________________________________________________________________________________________\n",
      "PositionFeatures (InputLayer)   (None, 85, 85, 2)    0                                            \n",
      "__________________________________________________________________________________________________\n",
      "max_sequence_repeat (Lambda)    (None, 85, 85, 300)  0           cwf_embedding[0][0]              \n",
      "__________________________________________________________________________________________________\n",
      "pf_embedding (TimeDistributed)  (None, 85, 85, 5)    15          PositionFeatures[0][0]           \n",
      "__________________________________________________________________________________________________\n",
      "SentenceLevel (Concatenate)     (None, 85, 85, 305)  0           max_sequence_repeat[0][0]        \n",
      "                                                                 pf_embedding[0][0]               \n",
      "__________________________________________________________________________________________________\n",
      "conv (TimeDistributed)          (None, 85, 83, 200)  183200      SentenceLevel[0][0]              \n",
      "__________________________________________________________________________________________________\n",
      "max_pooling (TimeDistributed)   (None, 85, 1, 200)   0           conv[0][0]                       \n",
      "__________________________________________________________________________________________________\n",
      "LexicalLevelFeatures (InputLaye (None, 85, 6)        0                                            \n",
      "__________________________________________________________________________________________________\n",
      "flatten (TimeDistributed)       (None, 85, 200)      0           max_pooling[0][0]                \n",
      "__________________________________________________________________________________________________\n",
      "LexicalEmbedding0 (TimeDistribu (None, 85, 300)      0           LexicalLevelFeatures[0][0]       \n",
      "__________________________________________________________________________________________________\n",
      "LexicalEmbedding1 (TimeDistribu (None, 85, 300)      0           LexicalLevelFeatures[0][0]       \n",
      "__________________________________________________________________________________________________\n",
      "LexicalEmbedding2 (TimeDistribu (None, 85, 300)      0           LexicalLevelFeatures[0][0]       \n",
      "__________________________________________________________________________________________________\n",
      "LexicalEmbedding3 (TimeDistribu (None, 85, 300)      0           LexicalLevelFeatures[0][0]       \n",
      "__________________________________________________________________________________________________\n",
      "LexicalEmbedding4 (TimeDistribu (None, 85, 300)      0           LexicalLevelFeatures[0][0]       \n",
      "__________________________________________________________________________________________________\n",
      "LexicalEmbedding5 (TimeDistribu (None, 85, 300)      0           LexicalLevelFeatures[0][0]       \n",
      "__________________________________________________________________________________________________\n",
      "dropout (TimeDistributed)       (None, 85, 200)      0           flatten[0][0]                    \n",
      "__________________________________________________________________________________________________\n",
      "LexicalLevel (Concatenate)      (None, 85, 1800)     0           LexicalEmbedding0[0][0]          \n",
      "                                                                 LexicalEmbedding1[0][0]          \n",
      "                                                                 LexicalEmbedding2[0][0]          \n",
      "                                                                 LexicalEmbedding3[0][0]          \n",
      "                                                                 LexicalEmbedding4[0][0]          \n",
      "                                                                 LexicalEmbedding5[0][0]          \n",
      "__________________________________________________________________________________________________\n",
      "LexicalAndSentence (Concatenate (None, 85, 2000)     0           dropout[0][0]                    \n",
      "                                                                 LexicalLevel[0][0]               \n",
      "__________________________________________________________________________________________________\n",
      "fc (TimeDistributed)            (None, 85, 32)       64032       LexicalAndSentence[0][0]         \n",
      "__________________________________________________________________________________________________\n",
      "output (TimeDistributed)        (None, 85, 8)        264         fc[0][0]                         \n",
      "==================================================================================================\n",
      "Total params: 2,047,511\n",
      "Trainable params: 247,511\n",
      "Non-trainable params: 1,800,000\n",
      "__________________________________________________________________________________________________\n"
     ]
    }
   ],
   "source": [
    "from DMCNN import CNN\n",
    "\n",
    "model = CNN(max_sequence_length=85, embedding_matrix=we_emb_matrix).model\n",
    "model.summary()"
   ]
  },
  {
   "cell_type": "code",
   "execution_count": 4,
   "metadata": {
    "collapsed": true
   },
   "outputs": [],
   "source": [
    "from keras.utils import plot_model"
   ]
  },
  {
   "cell_type": "code",
   "execution_count": 5,
   "metadata": {},
   "outputs": [],
   "source": [
    "plot_model(model, './img/CNN.png', show_shapes=True)"
   ]
  },
  {
   "cell_type": "markdown",
   "metadata": {
    "collapsed": true
   },
   "source": [
    "# 模型训练"
   ]
  },
  {
   "cell_type": "code",
   "execution_count": 4,
   "metadata": {
    "collapsed": true
   },
   "outputs": [],
   "source": [
    "from train import train\n",
    "from DMCNN import CNN"
   ]
  },
  {
   "cell_type": "code",
   "execution_count": 5,
   "metadata": {},
   "outputs": [
    {
     "name": "stdout",
     "output_type": "stream",
     "text": [
      "WARNING:tensorflow:From /usr/local/anaconda3/lib/python3.7/site-packages/keras/backend/tensorflow_backend.py:497: The name tf.placeholder is deprecated. Please use tf.compat.v1.placeholder instead.\n",
      "\n",
      "WARNING:tensorflow:From /usr/local/anaconda3/lib/python3.7/site-packages/keras/backend/tensorflow_backend.py:64: The name tf.get_default_graph is deprecated. Please use tf.compat.v1.get_default_graph instead.\n",
      "\n",
      "WARNING:tensorflow:From /usr/local/anaconda3/lib/python3.7/site-packages/keras/backend/tensorflow_backend.py:3636: The name tf.random_uniform is deprecated. Please use tf.random.uniform instead.\n",
      "\n",
      "WARNING:tensorflow:From /usr/local/anaconda3/lib/python3.7/site-packages/keras/backend/tensorflow_backend.py:3464: The name tf.nn.max_pool is deprecated. Please use tf.nn.max_pool2d instead.\n",
      "\n",
      "WARNING:tensorflow:From /usr/local/anaconda3/lib/python3.7/site-packages/keras/backend/tensorflow_backend.py:1264: calling reduce_prod_v1 (from tensorflow.python.ops.math_ops) with keep_dims is deprecated and will be removed in a future version.\n",
      "Instructions for updating:\n",
      "keep_dims is deprecated, use keepdims instead\n",
      "WARNING:tensorflow:From /usr/local/anaconda3/lib/python3.7/site-packages/keras/backend/tensorflow_backend.py:3019: calling dropout (from tensorflow.python.ops.nn_ops) with keep_prob is deprecated and will be removed in a future version.\n",
      "Instructions for updating:\n",
      "Please use `rate` instead of `keep_prob`. Rate should be set to `rate = 1 - keep_prob`.\n",
      "WARNING:tensorflow:From /usr/local/anaconda3/lib/python3.7/site-packages/keras/backend/tensorflow_backend.py:1247: calling reduce_sum_v1 (from tensorflow.python.ops.math_ops) with keep_dims is deprecated and will be removed in a future version.\n",
      "Instructions for updating:\n",
      "keep_dims is deprecated, use keepdims instead\n",
      "WARNING:tensorflow:From /usr/local/anaconda3/lib/python3.7/site-packages/keras/optimizers.py:711: The name tf.train.Optimizer is deprecated. Please use tf.compat.v1.train.Optimizer instead.\n",
      "\n",
      "WARNING:tensorflow:From /usr/local/anaconda3/lib/python3.7/site-packages/keras/backend/tensorflow_backend.py:2889: The name tf.log is deprecated. Please use tf.math.log instead.\n",
      "\n",
      "(1332, 85) (333, 85)\n",
      "(1332, 85, 85, 2) (333, 85, 85, 2)\n",
      "(1332, 85, 6) (333, 85, 6)\n",
      "(1332, 85, 8) (333, 85, 8)\n",
      "__________________________________________________________________________________________________\n",
      "Layer (type)                    Output Shape         Param #     Connected to                     \n",
      "==================================================================================================\n",
      "Word2Vec (InputLayer)           (None, 85)           0                                            \n",
      "__________________________________________________________________________________________________\n",
      "cwf_embedding (Embedding)       (None, 85, 300)      1800000     Word2Vec[0][0]                   \n",
      "__________________________________________________________________________________________________\n",
      "PositionFeatures (InputLayer)   (None, 85, 85, 2)    0                                            \n",
      "__________________________________________________________________________________________________\n",
      "max_sequence_repeat (Lambda)    (None, 85, 85, 300)  0           cwf_embedding[0][0]              \n",
      "__________________________________________________________________________________________________\n",
      "pf_embedding (TimeDistributed)  (None, 85, 85, 5)    15          PositionFeatures[0][0]           \n",
      "__________________________________________________________________________________________________\n",
      "SentenceLevel (Concatenate)     (None, 85, 85, 305)  0           max_sequence_repeat[0][0]        \n",
      "                                                                 pf_embedding[0][0]               \n",
      "__________________________________________________________________________________________________\n",
      "conv (TimeDistributed)          (None, 85, 83, 200)  183200      SentenceLevel[0][0]              \n",
      "__________________________________________________________________________________________________\n",
      "max_pooling (TimeDistributed)   (None, 85, 1, 200)   0           conv[0][0]                       \n",
      "__________________________________________________________________________________________________\n",
      "LexicalLevelFeatures (InputLaye (None, 85, 6)        0                                            \n",
      "__________________________________________________________________________________________________\n",
      "flatten (TimeDistributed)       (None, 85, 200)      0           max_pooling[0][0]                \n",
      "__________________________________________________________________________________________________\n",
      "LexicalEmbedding0 (TimeDistribu (None, 85, 300)      0           LexicalLevelFeatures[0][0]       \n",
      "__________________________________________________________________________________________________\n",
      "LexicalEmbedding1 (TimeDistribu (None, 85, 300)      0           LexicalLevelFeatures[0][0]       \n",
      "__________________________________________________________________________________________________\n",
      "LexicalEmbedding2 (TimeDistribu (None, 85, 300)      0           LexicalLevelFeatures[0][0]       \n",
      "__________________________________________________________________________________________________\n",
      "LexicalEmbedding3 (TimeDistribu (None, 85, 300)      0           LexicalLevelFeatures[0][0]       \n",
      "__________________________________________________________________________________________________\n",
      "LexicalEmbedding4 (TimeDistribu (None, 85, 300)      0           LexicalLevelFeatures[0][0]       \n",
      "__________________________________________________________________________________________________\n",
      "LexicalEmbedding5 (TimeDistribu (None, 85, 300)      0           LexicalLevelFeatures[0][0]       \n",
      "__________________________________________________________________________________________________\n",
      "dropout (TimeDistributed)       (None, 85, 200)      0           flatten[0][0]                    \n",
      "__________________________________________________________________________________________________\n",
      "LexicalLevel (Concatenate)      (None, 85, 1800)     0           LexicalEmbedding0[0][0]          \n",
      "                                                                 LexicalEmbedding1[0][0]          \n",
      "                                                                 LexicalEmbedding2[0][0]          \n",
      "                                                                 LexicalEmbedding3[0][0]          \n",
      "                                                                 LexicalEmbedding4[0][0]          \n",
      "                                                                 LexicalEmbedding5[0][0]          \n",
      "__________________________________________________________________________________________________\n",
      "LexicalAndSentence (Concatenate (None, 85, 2000)     0           dropout[0][0]                    \n",
      "                                                                 LexicalLevel[0][0]               \n",
      "__________________________________________________________________________________________________\n",
      "fc (TimeDistributed)            (None, 85, 32)       64032       LexicalAndSentence[0][0]         \n",
      "__________________________________________________________________________________________________\n",
      "output (TimeDistributed)        (None, 85, 8)        264         fc[0][0]                         \n",
      "==================================================================================================\n",
      "Total params: 2,047,511\n",
      "Trainable params: 247,511\n",
      "Non-trainable params: 1,800,000\n",
      "__________________________________________________________________________________________________\n",
      "None\n",
      "\n",
      "WARNING:tensorflow:From /usr/local/anaconda3/lib/python3.7/site-packages/tensorflow/python/ops/math_grad.py:1250: add_dispatch_support.<locals>.wrapper (from tensorflow.python.ops.array_ops) is deprecated and will be removed in a future version.\n",
      "Instructions for updating:\n",
      "Use tf.where in 2.0, which has the same broadcast rule as np.where\n",
      "WARNING:tensorflow:From /usr/local/anaconda3/lib/python3.7/site-packages/keras/backend/tensorflow_backend.py:958: The name tf.assign_add is deprecated. Please use tf.compat.v1.assign_add instead.\n",
      "\n",
      "WARNING:tensorflow:From /usr/local/anaconda3/lib/python3.7/site-packages/keras/backend/tensorflow_backend.py:680: calling Constant.__init__ (from tensorflow.python.ops.init_ops) with dtype is deprecated and will be removed in a future version.\n",
      "Instructions for updating:\n",
      "Call initializer instance with the dtype argument instead of passing it to the constructor\n"
     ]
    },
    {
     "name": "stdout",
     "output_type": "stream",
     "text": [
      "Train on 1332 samples, validate on 333 samples\n",
      "Epoch 1/20\n",
      "1332/1332 [==============================] - 10s 8ms/step - loss: 1.0752 - acc: 0.9401 - val_loss: 0.6031 - val_acc: 0.9764\n",
      "Epoch 2/20\n",
      "1332/1332 [==============================] - 3s 2ms/step - loss: 0.5142 - acc: 0.9782 - val_loss: 0.4135 - val_acc: 0.9817\n",
      "Epoch 3/20\n",
      "1332/1332 [==============================] - 3s 2ms/step - loss: 0.3643 - acc: 0.9809 - val_loss: 0.3084 - val_acc: 0.9829\n",
      "Epoch 4/20\n",
      "1332/1332 [==============================] - 3s 2ms/step - loss: 0.2833 - acc: 0.9826 - val_loss: 0.2527 - val_acc: 0.9852\n",
      "Epoch 5/20\n",
      "1332/1332 [==============================] - 3s 2ms/step - loss: 0.2395 - acc: 0.9842 - val_loss: 0.2213 - val_acc: 0.9871\n",
      "Epoch 6/20\n",
      "1332/1332 [==============================] - 3s 2ms/step - loss: 0.2134 - acc: 0.9855 - val_loss: 0.2015 - val_acc: 0.9876\n",
      "Epoch 7/20\n",
      "1332/1332 [==============================] - 3s 2ms/step - loss: 0.1964 - acc: 0.9865 - val_loss: 0.1880 - val_acc: 0.9885\n",
      "Epoch 8/20\n",
      "1332/1332 [==============================] - 3s 2ms/step - loss: 0.1838 - acc: 0.9872 - val_loss: 0.1777 - val_acc: 0.9872\n",
      "Epoch 9/20\n",
      "1332/1332 [==============================] - 3s 2ms/step - loss: 0.1740 - acc: 0.9875 - val_loss: 0.1688 - val_acc: 0.9876\n",
      "Epoch 10/20\n",
      "1332/1332 [==============================] - 3s 2ms/step - loss: 0.1654 - acc: 0.9881 - val_loss: 0.1613 - val_acc: 0.9864\n",
      "Epoch 11/20\n",
      "1332/1332 [==============================] - 3s 2ms/step - loss: 0.1579 - acc: 0.9877 - val_loss: 0.1542 - val_acc: 0.9864\n",
      "Epoch 12/20\n",
      "1332/1332 [==============================] - 3s 2ms/step - loss: 0.1508 - acc: 0.9880 - val_loss: 0.1472 - val_acc: 0.9882\n",
      "Epoch 13/20\n",
      "1332/1332 [==============================] - 3s 2ms/step - loss: 0.1444 - acc: 0.9879 - val_loss: 0.1411 - val_acc: 0.9885\n",
      "Epoch 14/20\n",
      "1332/1332 [==============================] - 3s 2ms/step - loss: 0.1385 - acc: 0.9881 - val_loss: 0.1353 - val_acc: 0.9881\n",
      "Epoch 15/20\n",
      "1332/1332 [==============================] - 3s 2ms/step - loss: 0.1327 - acc: 0.9881 - val_loss: 0.1300 - val_acc: 0.9881\n",
      "Epoch 16/20\n",
      "1332/1332 [==============================] - 3s 2ms/step - loss: 0.1277 - acc: 0.9882 - val_loss: 0.1253 - val_acc: 0.9863\n",
      "Epoch 17/20\n",
      "1332/1332 [==============================] - 3s 2ms/step - loss: 0.1225 - acc: 0.9884 - val_loss: 0.1205 - val_acc: 0.9875\n",
      "Epoch 18/20\n",
      "1332/1332 [==============================] - 3s 2ms/step - loss: 0.1181 - acc: 0.9883 - val_loss: 0.1158 - val_acc: 0.9883\n",
      "Epoch 19/20\n",
      "1332/1332 [==============================] - 3s 2ms/step - loss: 0.1138 - acc: 0.9882 - val_loss: 0.1116 - val_acc: 0.9887\n",
      "Epoch 20/20\n",
      "1332/1332 [==============================] - 3s 2ms/step - loss: 0.1097 - acc: 0.9881 - val_loss: 0.1077 - val_acc: 0.9878\n"
     ]
    },
    {
     "data": {
      "image/png": "[encoded data removed]",
      "text/plain": [
       "<Figure size 432x288 with 1 Axes>"
      ]
     },
     "metadata": {
      "needs_background": "light"
     },
     "output_type": "display_data"
    }
   ],
   "source": [
    "model = CNN(max_sequence_length=85, embedding_matrix=we_emb_matrix).model\n",
    "\n",
    "train(model, model_name='CNN', data=[we, pf, lexical], label=label, epochs=20, batch_size=128)"
   ]
  },
  {
   "cell_type": "markdown",
   "metadata": {
    "collapsed": true
   },
   "source": [
    "# 模型预测"
   ]
  },
  {
   "cell_type": "code",
   "execution_count": 6,
   "metadata": {
    "collapsed": true
   },
   "outputs": [],
   "source": [
    "from dataset_split import split_dataset\n",
    "from train import predict_single_identification, predict_single_classification\n",
    "from train import predict_multiple_identification, predict_multiple_classification"
   ]
  },
  {
   "cell_type": "code",
   "execution_count": 7,
   "metadata": {},
   "outputs": [
    {
     "name": "stdout",
     "output_type": "stream",
     "text": [
      "(1332, 85, 8) (333, 85, 8)\n"
     ]
    },
    {
     "data": {
      "text/plain": [
       "(333, 85, 8)"
      ]
     },
     "execution_count": 7,
     "metadata": {},
     "output_type": "execute_result"
    }
   ],
   "source": [
    "_, y_test = split_dataset(label)\n",
    "y_test.shape"
   ]
  },
  {
   "cell_type": "code",
   "execution_count": 8,
   "metadata": {},
   "outputs": [
    {
     "data": {
      "text/plain": [
       "(333, 85, 8)"
      ]
     },
     "execution_count": 8,
     "metadata": {},
     "output_type": "execute_result"
    }
   ],
   "source": [
    "y_pred = np.load('./predict/y_pred_CNN.npy')\n",
    "y_pred.shape"
   ]
  },
  {
   "cell_type": "markdown",
   "metadata": {},
   "source": [
    "## 1/1"
   ]
  },
  {
   "cell_type": "markdown",
   "metadata": {},
   "source": [
    "### Identification"
   ]
  },
  {
   "cell_type": "code",
   "execution_count": 9,
   "metadata": {},
   "outputs": [
    {
     "name": "stdout",
     "output_type": "stream",
     "text": [
      "\n",
      "TEST_sz: 28305\n",
      "\n",
      "Accuracy: 0.9984808337749514\n",
      "\n",
      "              precision    recall  f1-score   support\n",
      "\n",
      "        none     0.9984    1.0000    0.9992     27634\n",
      "    not-none     1.0000    0.9359    0.9669       671\n",
      "\n",
      "    accuracy                         0.9985     28305\n",
      "   macro avg     0.9992    0.9680    0.9831     28305\n",
      "weighted avg     0.9985    0.9985    0.9985     28305\n",
      "\n",
      "\n"
     ]
    }
   ],
   "source": [
    "event_type = ['none', 'not-none']\n",
    "\n",
    "predict_single_identification(y_pred, y_test, event_type)"
   ]
  },
  {
   "cell_type": "markdown",
   "metadata": {},
   "source": [
    "### Identification + Classification"
   ]
  },
  {
   "cell_type": "code",
   "execution_count": 10,
   "metadata": {},
   "outputs": [
    {
     "name": "stdout",
     "output_type": "stream",
     "text": [
      "\n",
      "TEST_sz: 28305\n",
      "\n",
      "Accuracy: 0.987776011305423\n",
      "\n",
      "              precision    recall  f1-score   support\n",
      "\n",
      "        none     0.9984    1.0000    0.9992     27634\n",
      "      action     0.5000    0.2205    0.3060       127\n",
      "   emergency     0.8761    0.8319    0.8534       119\n",
      "    movement     0.0000    0.0000    0.0000        73\n",
      "   operation     0.3496    0.8714    0.4990       140\n",
      "  perception     0.0000    0.0000    0.0000        31\n",
      " stateChange     0.6957    0.2078    0.3200        77\n",
      "   statement     0.6897    0.5769    0.6283       104\n",
      "\n",
      "   micro avg     0.9878    0.9878    0.9878     28305\n",
      "   macro avg     0.5137    0.4636    0.4507     28305\n",
      "weighted avg     0.9869    0.9878    0.9861     28305\n",
      " samples avg     0.9878    0.9878    0.9878     28305\n",
      "\n",
      "\n"
     ]
    },
    {
     "name": "stderr",
     "output_type": "stream",
     "text": [
      "/usr/local/anaconda3/lib/python3.7/site-packages/sklearn/metrics/classification.py:1437: UndefinedMetricWarning: Precision and F-score are ill-defined and being set to 0.0 in labels with no predicted samples.\n",
      "  'precision', 'predicted', average, warn_for)\n"
     ]
    }
   ],
   "source": [
    "event_type = ['none', 'action', 'emergency', 'movement',\n",
    "                  'operation', 'perception', 'stateChange', 'statement']\n",
    "\n",
    "predict_single_classification(y_pred, y_test, labels_names=event_type)"
   ]
  },
  {
   "cell_type": "markdown",
   "metadata": {},
   "source": [
    "## 1/N"
   ]
  },
  {
   "cell_type": "markdown",
   "metadata": {},
   "source": [
    "### Identification"
   ]
  },
  {
   "cell_type": "code",
   "execution_count": 11,
   "metadata": {},
   "outputs": [
    {
     "name": "stdout",
     "output_type": "stream",
     "text": [
      "TEST_sz: 333\n",
      "Accuracy: 0.8798798798798799\n"
     ]
    }
   ],
   "source": [
    "predict_multiple_identification(y_pred, y_test)"
   ]
  },
  {
   "cell_type": "markdown",
   "metadata": {},
   "source": [
    "### Identification + Classification"
   ]
  },
  {
   "cell_type": "code",
   "execution_count": 12,
   "metadata": {},
   "outputs": [
    {
     "name": "stdout",
     "output_type": "stream",
     "text": [
      "TEST_sz: 333\n",
      "Accuracy: 0.34534534534534533\n"
     ]
    }
   ],
   "source": [
    "predict_multiple_classification(y_pred, y_test)"
   ]
  },
  {
   "cell_type": "code",
   "execution_count": null,
   "metadata": {
    "collapsed": true
   },
   "outputs": [],
   "source": []
  },
  {
   "cell_type": "code",
   "execution_count": null,
   "metadata": {
    "collapsed": true
   },
   "outputs": [],
   "source": []
  }
 ],
 "metadata": {
  "kernelspec": {
   "display_name": "Python 3",
   "language": "python",
   "name": "python3"
  },
  "language_info": {
   "codemirror_mode": {
    "name": "ipython",
    "version": 3
   },
   "file_extension": ".py",
   "mimetype": "text/x-python",
   "name": "python",
   "nbconvert_exporter": "python",
   "pygments_lexer": "ipython3",
   "version": "3.5.3"
  },
  "toc": {
   "base_numbering": 1,
   "nav_menu": {},
   "number_sections": true,
   "sideBar": true,
   "skip_h1_title": false,
   "title_cell": "Table of Contents",
   "title_sidebar": "Contents",
   "toc_cell": false,
   "toc_position": {},
   "toc_section_display": true,
   "toc_window_display": true
  }
 },
 "nbformat": 4,
 "nbformat_minor": 2
}
