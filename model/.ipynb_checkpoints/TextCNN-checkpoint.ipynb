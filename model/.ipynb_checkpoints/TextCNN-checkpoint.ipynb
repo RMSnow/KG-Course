{
 "cells": [
  {
   "cell_type": "markdown",
   "metadata": {},
   "source": [
    "# 数据加载"
   ]
  },
  {
   "cell_type": "code",
   "execution_count": 1,
   "metadata": {
    "collapsed": true
   },
   "outputs": [],
   "source": [
    "import os\n",
    "os.environ[\"CUDA_VISIBLE_DEVICES\"] = \"1\""
   ]
  },
  {
   "cell_type": "code",
   "execution_count": 2,
   "metadata": {},
   "outputs": [
    {
     "data": {
      "text/plain": [
       "((1665, 85), (6000, 300), (1665, 85, 8))"
      ]
     },
     "execution_count": 2,
     "metadata": {},
     "output_type": "execute_result"
    }
   ],
   "source": [
    "import numpy as np\n",
    "\n",
    "we = np.load('../data/we_(1665, 85).npy')\n",
    "we_emb_matrix = np.load('../data/we_embedding_matrix_(6000, 300).npy')\n",
    "\n",
    "label = np.load('../data/label_(1665, 85, 8).npy')\n",
    "\n",
    "we.shape, we_emb_matrix.shape, label.shape"
   ]
  },
  {
   "cell_type": "markdown",
   "metadata": {},
   "source": [
    "# Plot Model"
   ]
  },
  {
   "cell_type": "code",
   "execution_count": 3,
   "metadata": {},
   "outputs": [
    {
     "name": "stderr",
     "output_type": "stream",
     "text": [
      "Using TensorFlow backend.\n"
     ]
    },
    {
     "name": "stdout",
     "output_type": "stream",
     "text": [
      "__________________________________________________________________________________________________\n",
      "Layer (type)                    Output Shape         Param #     Connected to                     \n",
      "==================================================================================================\n",
      "Word2Vec (InputLayer)           (None, 85)           0                                            \n",
      "__________________________________________________________________________________________________\n",
      "cwf_embedding (Embedding)       (None, 85, 300)      1800000     Word2Vec[0][0]                   \n",
      "__________________________________________________________________________________________________\n",
      "max_sequence_repeat (Lambda)    (None, 85, 85, 300)  0           cwf_embedding[0][0]              \n",
      "__________________________________________________________________________________________________\n",
      "conv_window2 (TimeDistributed)  (None, 85, 84, 200)  120200      max_sequence_repeat[0][0]        \n",
      "__________________________________________________________________________________________________\n",
      "conv_window3 (TimeDistributed)  (None, 85, 83, 200)  180200      max_sequence_repeat[0][0]        \n",
      "__________________________________________________________________________________________________\n",
      "conv_window4 (TimeDistributed)  (None, 85, 82, 200)  240200      max_sequence_repeat[0][0]        \n",
      "__________________________________________________________________________________________________\n",
      "max_pooling_window2 (TimeDistri (None, 85, 1, 200)   0           conv_window2[0][0]               \n",
      "__________________________________________________________________________________________________\n",
      "max_pooling_window3 (TimeDistri (None, 85, 1, 200)   0           conv_window3[0][0]               \n",
      "__________________________________________________________________________________________________\n",
      "max_pooling_window4 (TimeDistri (None, 85, 1, 200)   0           conv_window4[0][0]               \n",
      "__________________________________________________________________________________________________\n",
      "flatten_window2 (TimeDistribute (None, 85, 200)      0           max_pooling_window2[0][0]        \n",
      "__________________________________________________________________________________________________\n",
      "flatten_window3 (TimeDistribute (None, 85, 200)      0           max_pooling_window3[0][0]        \n",
      "__________________________________________________________________________________________________\n",
      "flatten_window4 (TimeDistribute (None, 85, 200)      0           max_pooling_window4[0][0]        \n",
      "__________________________________________________________________________________________________\n",
      "cnn (Concatenate)               (None, 85, 600)      0           flatten_window2[0][0]            \n",
      "                                                                 flatten_window3[0][0]            \n",
      "                                                                 flatten_window4[0][0]            \n",
      "__________________________________________________________________________________________________\n",
      "dropout (TimeDistributed)       (None, 85, 600)      0           cnn[0][0]                        \n",
      "__________________________________________________________________________________________________\n",
      "fc (TimeDistributed)            (None, 85, 32)       19232       dropout[0][0]                    \n",
      "__________________________________________________________________________________________________\n",
      "output (TimeDistributed)        (None, 85, 8)        264         fc[0][0]                         \n",
      "==================================================================================================\n",
      "Total params: 2,360,096\n",
      "Trainable params: 560,096\n",
      "Non-trainable params: 1,800,000\n",
      "__________________________________________________________________________________________________\n"
     ]
    }
   ],
   "source": [
    "from TextCNN import TextCNN\n",
    "\n",
    "model = TextCNN(max_sequence_length=85, embedding_matrix=we_emb_matrix).model\n",
    "model.summary()"
   ]
  },
  {
   "cell_type": "code",
   "execution_count": 4,
   "metadata": {
    "collapsed": true
   },
   "outputs": [],
   "source": [
    "from keras.utils import plot_model"
   ]
  },
  {
   "cell_type": "code",
   "execution_count": 5,
   "metadata": {},
   "outputs": [],
   "source": [
    "plot_model(model, './img/TextCNN.png', show_shapes=True)"
   ]
  },
  {
   "cell_type": "markdown",
   "metadata": {
    "collapsed": true
   },
   "source": [
    "# 模型训练"
   ]
  },
  {
   "cell_type": "code",
   "execution_count": 4,
   "metadata": {
    "collapsed": true
   },
   "outputs": [],
   "source": [
    "from train import train\n",
    "from TextCNN import TextCNN"
   ]
  },
  {
   "cell_type": "code",
   "execution_count": 5,
   "metadata": {},
   "outputs": [
    {
     "name": "stdout",
     "output_type": "stream",
     "text": [
      "WARNING:tensorflow:From /usr/local/anaconda3/lib/python3.7/site-packages/keras/backend/tensorflow_backend.py:497: The name tf.placeholder is deprecated. Please use tf.compat.v1.placeholder instead.\n",
      "\n",
      "WARNING:tensorflow:From /usr/local/anaconda3/lib/python3.7/site-packages/keras/backend/tensorflow_backend.py:64: The name tf.get_default_graph is deprecated. Please use tf.compat.v1.get_default_graph instead.\n",
      "\n",
      "WARNING:tensorflow:From /usr/local/anaconda3/lib/python3.7/site-packages/keras/backend/tensorflow_backend.py:3636: The name tf.random_uniform is deprecated. Please use tf.random.uniform instead.\n",
      "\n",
      "WARNING:tensorflow:From /usr/local/anaconda3/lib/python3.7/site-packages/keras/backend/tensorflow_backend.py:3464: The name tf.nn.max_pool is deprecated. Please use tf.nn.max_pool2d instead.\n",
      "\n",
      "WARNING:tensorflow:From /usr/local/anaconda3/lib/python3.7/site-packages/keras/backend/tensorflow_backend.py:1264: calling reduce_prod_v1 (from tensorflow.python.ops.math_ops) with keep_dims is deprecated and will be removed in a future version.\n",
      "Instructions for updating:\n",
      "keep_dims is deprecated, use keepdims instead\n",
      "WARNING:tensorflow:From /usr/local/anaconda3/lib/python3.7/site-packages/keras/backend/tensorflow_backend.py:3019: calling dropout (from tensorflow.python.ops.nn_ops) with keep_prob is deprecated and will be removed in a future version.\n",
      "Instructions for updating:\n",
      "Please use `rate` instead of `keep_prob`. Rate should be set to `rate = 1 - keep_prob`.\n",
      "WARNING:tensorflow:From /usr/local/anaconda3/lib/python3.7/site-packages/keras/backend/tensorflow_backend.py:1247: calling reduce_sum_v1 (from tensorflow.python.ops.math_ops) with keep_dims is deprecated and will be removed in a future version.\n",
      "Instructions for updating:\n",
      "keep_dims is deprecated, use keepdims instead\n",
      "WARNING:tensorflow:From /usr/local/anaconda3/lib/python3.7/site-packages/keras/optimizers.py:711: The name tf.train.Optimizer is deprecated. Please use tf.compat.v1.train.Optimizer instead.\n",
      "\n",
      "WARNING:tensorflow:From /usr/local/anaconda3/lib/python3.7/site-packages/keras/backend/tensorflow_backend.py:2889: The name tf.log is deprecated. Please use tf.math.log instead.\n",
      "\n",
      "(1332, 85) (333, 85)\n",
      "(1332, 85, 8) (333, 85, 8)\n",
      "__________________________________________________________________________________________________\n",
      "Layer (type)                    Output Shape         Param #     Connected to                     \n",
      "==================================================================================================\n",
      "Word2Vec (InputLayer)           (None, 85)           0                                            \n",
      "__________________________________________________________________________________________________\n",
      "cwf_embedding (Embedding)       (None, 85, 300)      1800000     Word2Vec[0][0]                   \n",
      "__________________________________________________________________________________________________\n",
      "max_sequence_repeat (Lambda)    (None, 85, 85, 300)  0           cwf_embedding[0][0]              \n",
      "__________________________________________________________________________________________________\n",
      "conv_window2 (TimeDistributed)  (None, 85, 84, 200)  120200      max_sequence_repeat[0][0]        \n",
      "__________________________________________________________________________________________________\n",
      "conv_window3 (TimeDistributed)  (None, 85, 83, 200)  180200      max_sequence_repeat[0][0]        \n",
      "__________________________________________________________________________________________________\n",
      "conv_window4 (TimeDistributed)  (None, 85, 82, 200)  240200      max_sequence_repeat[0][0]        \n",
      "__________________________________________________________________________________________________\n",
      "max_pooling_window2 (TimeDistri (None, 85, 1, 200)   0           conv_window2[0][0]               \n",
      "__________________________________________________________________________________________________\n",
      "max_pooling_window3 (TimeDistri (None, 85, 1, 200)   0           conv_window3[0][0]               \n",
      "__________________________________________________________________________________________________\n",
      "max_pooling_window4 (TimeDistri (None, 85, 1, 200)   0           conv_window4[0][0]               \n",
      "__________________________________________________________________________________________________\n",
      "flatten_window2 (TimeDistribute (None, 85, 200)      0           max_pooling_window2[0][0]        \n",
      "__________________________________________________________________________________________________\n",
      "flatten_window3 (TimeDistribute (None, 85, 200)      0           max_pooling_window3[0][0]        \n",
      "__________________________________________________________________________________________________\n",
      "flatten_window4 (TimeDistribute (None, 85, 200)      0           max_pooling_window4[0][0]        \n",
      "__________________________________________________________________________________________________\n",
      "cnn (Concatenate)               (None, 85, 600)      0           flatten_window2[0][0]            \n",
      "                                                                 flatten_window3[0][0]            \n",
      "                                                                 flatten_window4[0][0]            \n",
      "__________________________________________________________________________________________________\n",
      "dropout (TimeDistributed)       (None, 85, 600)      0           cnn[0][0]                        \n",
      "__________________________________________________________________________________________________\n",
      "fc (TimeDistributed)            (None, 85, 32)       19232       dropout[0][0]                    \n",
      "__________________________________________________________________________________________________\n",
      "output (TimeDistributed)        (None, 85, 8)        264         fc[0][0]                         \n",
      "==================================================================================================\n",
      "Total params: 2,360,096\n",
      "Trainable params: 560,096\n",
      "Non-trainable params: 1,800,000\n",
      "__________________________________________________________________________________________________\n",
      "None\n",
      "\n",
      "WARNING:tensorflow:From /usr/local/anaconda3/lib/python3.7/site-packages/tensorflow/python/ops/math_grad.py:1250: add_dispatch_support.<locals>.wrapper (from tensorflow.python.ops.array_ops) is deprecated and will be removed in a future version.\n",
      "Instructions for updating:\n",
      "Use tf.where in 2.0, which has the same broadcast rule as np.where\n",
      "WARNING:tensorflow:From /usr/local/anaconda3/lib/python3.7/site-packages/keras/backend/tensorflow_backend.py:958: The name tf.assign_add is deprecated. Please use tf.compat.v1.assign_add instead.\n",
      "\n",
      "WARNING:tensorflow:From /usr/local/anaconda3/lib/python3.7/site-packages/keras/backend/tensorflow_backend.py:680: calling Constant.__init__ (from tensorflow.python.ops.init_ops) with dtype is deprecated and will be removed in a future version.\n",
      "Instructions for updating:\n",
      "Call initializer instance with the dtype argument instead of passing it to the constructor\n",
      "Train on 1332 samples, validate on 333 samples\n",
      "Epoch 1/100\n",
      "1332/1332 [==============================] - 12s 9ms/step - loss: 1.1020 - acc: 0.9314 - val_loss: 0.9632 - val_acc: 0.9763\n",
      "Epoch 2/100\n",
      "1332/1332 [==============================] - 5s 4ms/step - loss: 0.8913 - acc: 0.9763 - val_loss: 0.8215 - val_acc: 0.9763\n",
      "Epoch 3/100\n",
      "1332/1332 [==============================] - 5s 4ms/step - loss: 0.7985 - acc: 0.9763 - val_loss: 0.7548 - val_acc: 0.9763\n",
      "Epoch 4/100\n",
      "1332/1332 [==============================] - 5s 4ms/step - loss: 0.7376 - acc: 0.9763 - val_loss: 0.7025 - val_acc: 0.9763\n",
      "Epoch 5/100\n",
      "1332/1332 [==============================] - 5s 4ms/step - loss: 0.6862 - acc: 0.9763 - val_loss: 0.6564 - val_acc: 0.9763\n",
      "Epoch 6/100\n",
      "1332/1332 [==============================] - 5s 4ms/step - loss: 0.6413 - acc: 0.9763 - val_loss: 0.6154 - val_acc: 0.9763\n",
      "Epoch 7/100\n",
      "1332/1332 [==============================] - 5s 4ms/step - loss: 0.6022 - acc: 0.9763 - val_loss: 0.5785 - val_acc: 0.9763\n",
      "Epoch 8/100\n",
      "1332/1332 [==============================] - 5s 4ms/step - loss: 0.5659 - acc: 0.9763 - val_loss: 0.5452 - val_acc: 0.9763\n",
      "Epoch 9/100\n",
      "1332/1332 [==============================] - 5s 4ms/step - loss: 0.5327 - acc: 0.9763 - val_loss: 0.5152 - val_acc: 0.9763\n"
     ]
    },
    {
     "name": "stdout",
     "output_type": "stream",
     "text": [
      "Epoch 10/100\n",
      "1332/1332 [==============================] - 5s 4ms/step - loss: 0.5027 - acc: 0.9763 - val_loss: 0.4882 - val_acc: 0.9763\n",
      "Epoch 11/100\n",
      "1332/1332 [==============================] - 5s 4ms/step - loss: 0.4768 - acc: 0.9763 - val_loss: 0.4636 - val_acc: 0.9763\n",
      "Epoch 12/100\n",
      "1332/1332 [==============================] - 5s 4ms/step - loss: 0.4527 - acc: 0.9763 - val_loss: 0.4411 - val_acc: 0.9763\n",
      "Epoch 13/100\n",
      "1332/1332 [==============================] - 5s 4ms/step - loss: 0.4304 - acc: 0.9763 - val_loss: 0.4204 - val_acc: 0.9763\n",
      "Epoch 14/100\n",
      "1332/1332 [==============================] - 5s 4ms/step - loss: 0.4100 - acc: 0.9763 - val_loss: 0.4014 - val_acc: 0.9763\n",
      "Epoch 15/100\n",
      "1332/1332 [==============================] - 5s 4ms/step - loss: 0.3918 - acc: 0.9763 - val_loss: 0.3838 - val_acc: 0.9763\n",
      "Epoch 16/100\n",
      "1332/1332 [==============================] - 5s 4ms/step - loss: 0.3745 - acc: 0.9763 - val_loss: 0.3680 - val_acc: 0.9763\n",
      "Epoch 17/100\n",
      "1332/1332 [==============================] - 5s 4ms/step - loss: 0.3596 - acc: 0.9763 - val_loss: 0.3533 - val_acc: 0.9763\n",
      "Epoch 18/100\n",
      "1332/1332 [==============================] - 5s 4ms/step - loss: 0.3438 - acc: 0.9763 - val_loss: 0.3398 - val_acc: 0.9763\n",
      "Epoch 19/100\n",
      "1332/1332 [==============================] - 5s 4ms/step - loss: 0.3311 - acc: 0.9763 - val_loss: 0.3273 - val_acc: 0.9763\n",
      "Epoch 20/100\n",
      "1332/1332 [==============================] - 5s 4ms/step - loss: 0.3183 - acc: 0.9763 - val_loss: 0.3157 - val_acc: 0.9763\n",
      "Epoch 21/100\n",
      "1332/1332 [==============================] - 5s 4ms/step - loss: 0.3072 - acc: 0.9763 - val_loss: 0.3048 - val_acc: 0.9763\n",
      "Epoch 22/100\n",
      "1332/1332 [==============================] - 5s 4ms/step - loss: 0.2971 - acc: 0.9763 - val_loss: 0.2951 - val_acc: 0.9763\n",
      "Epoch 23/100\n",
      "1332/1332 [==============================] - 5s 4ms/step - loss: 0.2868 - acc: 0.9763 - val_loss: 0.2860 - val_acc: 0.9763\n",
      "Epoch 24/100\n",
      "1332/1332 [==============================] - 5s 4ms/step - loss: 0.2779 - acc: 0.9763 - val_loss: 0.2774 - val_acc: 0.9763\n",
      "Epoch 25/100\n",
      "1332/1332 [==============================] - 5s 4ms/step - loss: 0.2698 - acc: 0.9763 - val_loss: 0.2694 - val_acc: 0.9763\n",
      "Epoch 26/100\n",
      "1332/1332 [==============================] - 5s 4ms/step - loss: 0.2618 - acc: 0.9763 - val_loss: 0.2625 - val_acc: 0.9763\n",
      "Epoch 27/100\n",
      "1332/1332 [==============================] - 5s 4ms/step - loss: 0.2549 - acc: 0.9763 - val_loss: 0.2559 - val_acc: 0.9763\n",
      "Epoch 28/100\n",
      "1332/1332 [==============================] - 5s 4ms/step - loss: 0.2489 - acc: 0.9763 - val_loss: 0.2495 - val_acc: 0.9763\n",
      "Epoch 29/100\n",
      "1332/1332 [==============================] - 5s 4ms/step - loss: 0.2427 - acc: 0.9763 - val_loss: 0.2448 - val_acc: 0.9763\n",
      "Epoch 30/100\n",
      "1332/1332 [==============================] - 5s 4ms/step - loss: 0.2372 - acc: 0.9763 - val_loss: 0.2386 - val_acc: 0.9763\n",
      "Epoch 31/100\n",
      "1332/1332 [==============================] - 5s 4ms/step - loss: 0.2315 - acc: 0.9763 - val_loss: 0.2338 - val_acc: 0.9763\n",
      "Epoch 32/100\n",
      "1332/1332 [==============================] - 5s 4ms/step - loss: 0.2273 - acc: 0.9763 - val_loss: 0.2296 - val_acc: 0.9763\n",
      "Epoch 33/100\n",
      "1332/1332 [==============================] - 5s 4ms/step - loss: 0.2227 - acc: 0.9763 - val_loss: 0.2251 - val_acc: 0.9763\n",
      "Epoch 34/100\n",
      "1332/1332 [==============================] - 5s 4ms/step - loss: 0.2184 - acc: 0.9763 - val_loss: 0.2214 - val_acc: 0.9763\n",
      "Epoch 35/100\n",
      "1332/1332 [==============================] - 5s 4ms/step - loss: 0.2154 - acc: 0.9763 - val_loss: 0.2180 - val_acc: 0.9763\n",
      "Epoch 36/100\n",
      "1332/1332 [==============================] - 5s 4ms/step - loss: 0.2111 - acc: 0.9763 - val_loss: 0.2146 - val_acc: 0.9763\n",
      "Epoch 37/100\n",
      "1332/1332 [==============================] - 5s 4ms/step - loss: 0.2084 - acc: 0.9763 - val_loss: 0.2116 - val_acc: 0.9763\n",
      "Epoch 38/100\n",
      "1332/1332 [==============================] - 5s 4ms/step - loss: 0.2054 - acc: 0.9763 - val_loss: 0.2090 - val_acc: 0.9763\n",
      "Epoch 39/100\n",
      "1332/1332 [==============================] - 5s 4ms/step - loss: 0.2022 - acc: 0.9763 - val_loss: 0.2060 - val_acc: 0.9763\n",
      "Epoch 40/100\n",
      "1332/1332 [==============================] - 5s 4ms/step - loss: 0.2001 - acc: 0.9763 - val_loss: 0.2036 - val_acc: 0.9763\n",
      "Epoch 41/100\n",
      "1332/1332 [==============================] - 5s 4ms/step - loss: 0.1978 - acc: 0.9763 - val_loss: 0.2013 - val_acc: 0.9763\n",
      "Epoch 42/100\n",
      "1332/1332 [==============================] - 5s 4ms/step - loss: 0.1958 - acc: 0.9763 - val_loss: 0.1991 - val_acc: 0.9763\n",
      "Epoch 43/100\n",
      "1332/1332 [==============================] - 5s 4ms/step - loss: 0.1933 - acc: 0.9763 - val_loss: 0.1972 - val_acc: 0.9763\n",
      "Epoch 44/100\n",
      "1332/1332 [==============================] - 5s 4ms/step - loss: 0.1913 - acc: 0.9763 - val_loss: 0.1955 - val_acc: 0.9763\n",
      "Epoch 45/100\n",
      "1332/1332 [==============================] - 5s 4ms/step - loss: 0.1896 - acc: 0.9763 - val_loss: 0.1935 - val_acc: 0.9763\n",
      "Epoch 46/100\n",
      "1332/1332 [==============================] - 5s 4ms/step - loss: 0.1884 - acc: 0.9763 - val_loss: 0.1923 - val_acc: 0.9763\n",
      "Epoch 47/100\n",
      "1332/1332 [==============================] - 5s 4ms/step - loss: 0.1862 - acc: 0.9763 - val_loss: 0.1903 - val_acc: 0.9763\n",
      "Epoch 48/100\n",
      "1332/1332 [==============================] - 5s 4ms/step - loss: 0.1851 - acc: 0.9763 - val_loss: 0.1894 - val_acc: 0.9763\n",
      "Epoch 49/100\n",
      "1332/1332 [==============================] - 5s 4ms/step - loss: 0.1838 - acc: 0.9763 - val_loss: 0.1878 - val_acc: 0.9763\n",
      "Epoch 50/100\n",
      "1332/1332 [==============================] - 5s 4ms/step - loss: 0.1822 - acc: 0.9763 - val_loss: 0.1865 - val_acc: 0.9763\n",
      "Epoch 51/100\n",
      "1332/1332 [==============================] - 5s 4ms/step - loss: 0.1811 - acc: 0.9763 - val_loss: 0.1851 - val_acc: 0.9763\n",
      "Epoch 52/100\n",
      "1332/1332 [==============================] - 5s 4ms/step - loss: 0.1799 - acc: 0.9763 - val_loss: 0.1840 - val_acc: 0.9763\n",
      "Epoch 53/100\n",
      "1332/1332 [==============================] - 5s 4ms/step - loss: 0.1794 - acc: 0.9763 - val_loss: 0.1830 - val_acc: 0.9763\n",
      "Epoch 54/100\n",
      "1332/1332 [==============================] - 5s 4ms/step - loss: 0.1783 - acc: 0.9763 - val_loss: 0.1820 - val_acc: 0.9763\n",
      "Epoch 55/100\n",
      "1332/1332 [==============================] - 5s 4ms/step - loss: 0.1769 - acc: 0.9763 - val_loss: 0.1811 - val_acc: 0.9763\n",
      "Epoch 56/100\n",
      "1332/1332 [==============================] - 5s 4ms/step - loss: 0.1760 - acc: 0.9763 - val_loss: 0.1804 - val_acc: 0.9763\n",
      "Epoch 57/100\n",
      "1332/1332 [==============================] - 5s 4ms/step - loss: 0.1757 - acc: 0.9763 - val_loss: 0.1796 - val_acc: 0.9763\n",
      "Epoch 58/100\n",
      "1332/1332 [==============================] - 5s 4ms/step - loss: 0.1744 - acc: 0.9763 - val_loss: 0.1789 - val_acc: 0.9763\n",
      "Epoch 59/100\n",
      "1332/1332 [==============================] - 5s 4ms/step - loss: 0.1736 - acc: 0.9763 - val_loss: 0.1778 - val_acc: 0.9763\n",
      "Epoch 60/100\n",
      "1332/1332 [==============================] - 5s 4ms/step - loss: 0.1730 - acc: 0.9763 - val_loss: 0.1771 - val_acc: 0.9763\n",
      "Epoch 61/100\n",
      "1332/1332 [==============================] - 5s 4ms/step - loss: 0.1727 - acc: 0.9763 - val_loss: 0.1766 - val_acc: 0.9763\n",
      "Epoch 62/100\n",
      "1332/1332 [==============================] - 5s 4ms/step - loss: 0.1715 - acc: 0.9763 - val_loss: 0.1758 - val_acc: 0.9763\n",
      "Epoch 63/100\n",
      "1332/1332 [==============================] - 5s 4ms/step - loss: 0.1710 - acc: 0.9763 - val_loss: 0.1752 - val_acc: 0.9763\n",
      "Epoch 64/100\n",
      "1332/1332 [==============================] - 5s 4ms/step - loss: 0.1704 - acc: 0.9763 - val_loss: 0.1750 - val_acc: 0.9763\n",
      "Epoch 65/100\n",
      "1332/1332 [==============================] - 5s 4ms/step - loss: 0.1699 - acc: 0.9763 - val_loss: 0.1743 - val_acc: 0.9763\n",
      "Epoch 66/100\n",
      "1332/1332 [==============================] - 5s 4ms/step - loss: 0.1690 - acc: 0.9763 - val_loss: 0.1735 - val_acc: 0.9763\n",
      "Epoch 67/100\n",
      "1332/1332 [==============================] - 5s 4ms/step - loss: 0.1689 - acc: 0.9763 - val_loss: 0.1732 - val_acc: 0.9763\n",
      "Epoch 68/100\n",
      "1332/1332 [==============================] - 5s 4ms/step - loss: 0.1682 - acc: 0.9763 - val_loss: 0.1730 - val_acc: 0.9763\n",
      "Epoch 69/100\n",
      "1332/1332 [==============================] - 5s 4ms/step - loss: 0.1677 - acc: 0.9763 - val_loss: 0.1720 - val_acc: 0.9763\n",
      "Epoch 70/100\n",
      "1332/1332 [==============================] - 5s 4ms/step - loss: 0.1672 - acc: 0.9763 - val_loss: 0.1716 - val_acc: 0.9763\n",
      "Epoch 71/100\n",
      "1332/1332 [==============================] - 5s 4ms/step - loss: 0.1667 - acc: 0.9763 - val_loss: 0.1710 - val_acc: 0.9763\n",
      "Epoch 72/100\n",
      "1332/1332 [==============================] - 5s 4ms/step - loss: 0.1664 - acc: 0.9763 - val_loss: 0.1711 - val_acc: 0.9763\n",
      "Epoch 73/100\n",
      "1332/1332 [==============================] - 5s 4ms/step - loss: 0.1660 - acc: 0.9763 - val_loss: 0.1704 - val_acc: 0.9763\n",
      "Epoch 74/100\n",
      "1332/1332 [==============================] - 5s 4ms/step - loss: 0.1653 - acc: 0.9763 - val_loss: 0.1699 - val_acc: 0.9763\n",
      "Epoch 75/100\n",
      "1332/1332 [==============================] - 5s 4ms/step - loss: 0.1658 - acc: 0.9763 - val_loss: 0.1695 - val_acc: 0.9763\n",
      "Epoch 76/100\n",
      "1332/1332 [==============================] - 5s 4ms/step - loss: 0.1654 - acc: 0.9763 - val_loss: 0.1691 - val_acc: 0.9763\n",
      "Epoch 77/100\n",
      "1332/1332 [==============================] - 5s 4ms/step - loss: 0.1647 - acc: 0.9763 - val_loss: 0.1690 - val_acc: 0.9763\n",
      "Epoch 78/100\n",
      "1332/1332 [==============================] - 5s 4ms/step - loss: 0.1641 - acc: 0.9763 - val_loss: 0.1688 - val_acc: 0.9763\n",
      "Epoch 79/100\n",
      "1332/1332 [==============================] - 5s 4ms/step - loss: 0.1641 - acc: 0.9763 - val_loss: 0.1685 - val_acc: 0.9763\n",
      "Epoch 80/100\n",
      "1332/1332 [==============================] - 5s 4ms/step - loss: 0.1641 - acc: 0.9763 - val_loss: 0.1681 - val_acc: 0.9763\n",
      "Epoch 81/100\n",
      "1332/1332 [==============================] - 5s 4ms/step - loss: 0.1633 - acc: 0.9763 - val_loss: 0.1676 - val_acc: 0.9763\n",
      "Epoch 82/100\n",
      "1332/1332 [==============================] - 5s 4ms/step - loss: 0.1627 - acc: 0.9763 - val_loss: 0.1674 - val_acc: 0.9763\n",
      "Epoch 83/100\n",
      "1332/1332 [==============================] - 5s 4ms/step - loss: 0.1632 - acc: 0.9763 - val_loss: 0.1673 - val_acc: 0.9763\n",
      "Epoch 84/100\n",
      "1332/1332 [==============================] - 5s 4ms/step - loss: 0.1623 - acc: 0.9763 - val_loss: 0.1671 - val_acc: 0.9763\n",
      "Epoch 85/100\n",
      "1332/1332 [==============================] - 5s 4ms/step - loss: 0.1624 - acc: 0.9763 - val_loss: 0.1666 - val_acc: 0.9763\n",
      "Epoch 86/100\n",
      "1332/1332 [==============================] - 5s 4ms/step - loss: 0.1621 - acc: 0.9763 - val_loss: 0.1663 - val_acc: 0.9763\n",
      "Epoch 87/100\n",
      "1332/1332 [==============================] - 5s 4ms/step - loss: 0.1622 - acc: 0.9763 - val_loss: 0.1662 - val_acc: 0.9763\n",
      "Epoch 88/100\n",
      "1332/1332 [==============================] - 5s 4ms/step - loss: 0.1615 - acc: 0.9763 - val_loss: 0.1662 - val_acc: 0.9763\n",
      "Epoch 89/100\n",
      "1332/1332 [==============================] - 5s 4ms/step - loss: 0.1616 - acc: 0.9763 - val_loss: 0.1658 - val_acc: 0.9763\n",
      "Epoch 90/100\n",
      "1332/1332 [==============================] - 5s 4ms/step - loss: 0.1611 - acc: 0.9763 - val_loss: 0.1656 - val_acc: 0.9763\n",
      "Epoch 91/100\n",
      "1332/1332 [==============================] - 5s 4ms/step - loss: 0.1612 - acc: 0.9763 - val_loss: 0.1654 - val_acc: 0.9763\n",
      "Epoch 92/100\n",
      "1332/1332 [==============================] - 5s 4ms/step - loss: 0.1604 - acc: 0.9763 - val_loss: 0.1658 - val_acc: 0.9763\n",
      "Epoch 93/100\n",
      "1332/1332 [==============================] - 5s 4ms/step - loss: 0.1609 - acc: 0.9763 - val_loss: 0.1649 - val_acc: 0.9763\n",
      "Epoch 94/100\n",
      "1332/1332 [==============================] - 5s 4ms/step - loss: 0.1600 - acc: 0.9763 - val_loss: 0.1648 - val_acc: 0.9763\n",
      "Epoch 95/100\n",
      "1332/1332 [==============================] - 5s 4ms/step - loss: 0.1600 - acc: 0.9763 - val_loss: 0.1648 - val_acc: 0.9763\n",
      "Epoch 96/100\n",
      "1332/1332 [==============================] - 5s 4ms/step - loss: 0.1604 - acc: 0.9763 - val_loss: 0.1645 - val_acc: 0.9763\n",
      "Epoch 97/100\n",
      "1332/1332 [==============================] - 5s 4ms/step - loss: 0.1599 - acc: 0.9763 - val_loss: 0.1650 - val_acc: 0.9763\n",
      "Epoch 98/100\n",
      "1332/1332 [==============================] - 5s 4ms/step - loss: 0.1597 - acc: 0.9763 - val_loss: 0.1641 - val_acc: 0.9763\n",
      "Epoch 99/100\n",
      "1332/1332 [==============================] - 5s 4ms/step - loss: 0.1595 - acc: 0.9763 - val_loss: 0.1638 - val_acc: 0.9763\n",
      "Epoch 100/100\n",
      "1332/1332 [==============================] - 5s 4ms/step - loss: 0.1594 - acc: 0.9763 - val_loss: 0.1639 - val_acc: 0.9763\n"
     ]
    },
    {
     "data": {
      "image/png": "[encoded data removed]",
      "text/plain": [
       "<Figure size 432x288 with 1 Axes>"
      ]
     },
     "metadata": {
      "needs_background": "light"
     },
     "output_type": "display_data"
    }
   ],
   "source": [
    "model = TextCNN(max_sequence_length=85, embedding_matrix=we_emb_matrix).model\n",
    "\n",
    "train(model, model_name='TextCNN', data=[we], label=label, epochs=100, batch_size=128)"
   ]
  },
  {
   "cell_type": "markdown",
   "metadata": {
    "collapsed": true
   },
   "source": [
    "# 模型预测"
   ]
  },
  {
   "cell_type": "code",
   "execution_count": 6,
   "metadata": {
    "collapsed": true
   },
   "outputs": [],
   "source": [
    "from dataset_split import split_dataset\n",
    "from train import predict_single_identification, predict_single_classification\n",
    "from train import predict_multiple_identification, predict_multiple_classification"
   ]
  },
  {
   "cell_type": "code",
   "execution_count": 7,
   "metadata": {},
   "outputs": [
    {
     "name": "stdout",
     "output_type": "stream",
     "text": [
      "(1332, 85, 8) (333, 85, 8)\n"
     ]
    },
    {
     "data": {
      "text/plain": [
       "(333, 85, 8)"
      ]
     },
     "execution_count": 7,
     "metadata": {},
     "output_type": "execute_result"
    }
   ],
   "source": [
    "_, y_test = split_dataset(label)\n",
    "y_test.shape"
   ]
  },
  {
   "cell_type": "code",
   "execution_count": 8,
   "metadata": {},
   "outputs": [
    {
     "data": {
      "text/plain": [
       "(333, 85, 8)"
      ]
     },
     "execution_count": 8,
     "metadata": {},
     "output_type": "execute_result"
    }
   ],
   "source": [
    "y_pred = np.load('./predict/y_pred_TextCNN.npy')\n",
    "y_pred.shape"
   ]
  },
  {
   "cell_type": "markdown",
   "metadata": {},
   "source": [
    "## 1/1"
   ]
  },
  {
   "cell_type": "markdown",
   "metadata": {},
   "source": [
    "### Identification"
   ]
  },
  {
   "cell_type": "code",
   "execution_count": 9,
   "metadata": {},
   "outputs": [
    {
     "name": "stdout",
     "output_type": "stream",
     "text": [
      "\n",
      "TEST_sz: 28305\n",
      "\n",
      "Accuracy: 0.9762939409998234\n",
      "\n",
      "              precision    recall  f1-score   support\n",
      "\n",
      "        none     0.9763    1.0000    0.9880     27634\n",
      "    not-none     0.0000    0.0000    0.0000       671\n",
      "\n",
      "    accuracy                         0.9763     28305\n",
      "   macro avg     0.4881    0.5000    0.4940     28305\n",
      "weighted avg     0.9531    0.9763    0.9646     28305\n",
      "\n",
      "\n"
     ]
    },
    {
     "name": "stderr",
     "output_type": "stream",
     "text": [
      "/usr/local/anaconda3/lib/python3.7/site-packages/sklearn/metrics/classification.py:1437: UndefinedMetricWarning: Precision and F-score are ill-defined and being set to 0.0 in labels with no predicted samples.\n",
      "  'precision', 'predicted', average, warn_for)\n"
     ]
    }
   ],
   "source": [
    "event_type = ['none', 'not-none']\n",
    "\n",
    "predict_single_identification(y_pred, y_test, event_type)"
   ]
  },
  {
   "cell_type": "markdown",
   "metadata": {},
   "source": [
    "### Identification + Classification"
   ]
  },
  {
   "cell_type": "code",
   "execution_count": 10,
   "metadata": {},
   "outputs": [
    {
     "name": "stdout",
     "output_type": "stream",
     "text": [
      "\n",
      "TEST_sz: 28305\n",
      "\n",
      "Accuracy: 0.9762939409998234\n",
      "\n",
      "              precision    recall  f1-score   support\n",
      "\n",
      "        none     0.9763    1.0000    0.9880     27634\n",
      "      action     0.0000    0.0000    0.0000       127\n",
      "   emergency     0.0000    0.0000    0.0000       119\n",
      "    movement     0.0000    0.0000    0.0000        73\n",
      "   operation     0.0000    0.0000    0.0000       140\n",
      "  perception     0.0000    0.0000    0.0000        31\n",
      " stateChange     0.0000    0.0000    0.0000        77\n",
      "   statement     0.0000    0.0000    0.0000       104\n",
      "\n",
      "   micro avg     0.9763    0.9763    0.9763     28305\n",
      "   macro avg     0.1220    0.1250    0.1235     28305\n",
      "weighted avg     0.9531    0.9763    0.9646     28305\n",
      " samples avg     0.9763    0.9763    0.9763     28305\n",
      "\n",
      "\n"
     ]
    }
   ],
   "source": [
    "event_type = ['none', 'action', 'emergency', 'movement',\n",
    "                  'operation', 'perception', 'stateChange', 'statement']\n",
    "\n",
    "predict_single_classification(y_pred, y_test, labels_names=event_type)"
   ]
  },
  {
   "cell_type": "markdown",
   "metadata": {},
   "source": [
    "## 1/N"
   ]
  },
  {
   "cell_type": "markdown",
   "metadata": {},
   "source": [
    "### Identification"
   ]
  },
  {
   "cell_type": "code",
   "execution_count": 11,
   "metadata": {},
   "outputs": [
    {
     "name": "stdout",
     "output_type": "stream",
     "text": [
      "TEST_sz: 333\n",
      "Accuracy: 0.0\n"
     ]
    }
   ],
   "source": [
    "predict_multiple_identification(y_pred, y_test)"
   ]
  },
  {
   "cell_type": "markdown",
   "metadata": {},
   "source": [
    "### Identification + Classification"
   ]
  },
  {
   "cell_type": "code",
   "execution_count": 12,
   "metadata": {},
   "outputs": [
    {
     "name": "stdout",
     "output_type": "stream",
     "text": [
      "TEST_sz: 333\n",
      "Accuracy: 0.0\n"
     ]
    }
   ],
   "source": [
    "predict_multiple_classification(y_pred, y_test)"
   ]
  },
  {
   "cell_type": "code",
   "execution_count": null,
   "metadata": {
    "collapsed": true
   },
   "outputs": [],
   "source": []
  },
  {
   "cell_type": "code",
   "execution_count": null,
   "metadata": {
    "collapsed": true
   },
   "outputs": [],
   "source": []
  }
 ],
 "metadata": {
  "kernelspec": {
   "display_name": "Python 3",
   "language": "python",
   "name": "python3"
  },
  "language_info": {
   "codemirror_mode": {
    "name": "ipython",
    "version": 3
   },
   "file_extension": ".py",
   "mimetype": "text/x-python",
   "name": "python",
   "nbconvert_exporter": "python",
   "pygments_lexer": "ipython3",
   "version": "3.5.3"
  },
  "toc": {
   "base_numbering": 1,
   "nav_menu": {},
   "number_sections": true,
   "sideBar": true,
   "skip_h1_title": false,
   "title_cell": "Table of Contents",
   "title_sidebar": "Contents",
   "toc_cell": false,
   "toc_position": {},
   "toc_section_display": true,
   "toc_window_display": true
  }
 },
 "nbformat": 4,
 "nbformat_minor": 2
}
